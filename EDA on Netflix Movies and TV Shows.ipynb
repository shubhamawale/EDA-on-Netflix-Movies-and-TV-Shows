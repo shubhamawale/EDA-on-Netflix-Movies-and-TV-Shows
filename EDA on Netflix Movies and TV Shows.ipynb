{
 "cells": [
  {
   "cell_type": "code",
   "execution_count": 1,
   "id": "critical-norwegian",
   "metadata": {},
   "outputs": [],
   "source": [
    "import numpy as np\n",
    "import pandas as pd\n",
    "import matplotlib.pyplot as plt\n",
    "import seaborn as sns"
   ]
  },
  {
   "cell_type": "markdown",
   "id": "directed-moral",
   "metadata": {},
   "source": [
    "##### Loading The Data"
   ]
  },
  {
   "cell_type": "code",
   "execution_count": 2,
   "id": "athletic-python",
   "metadata": {},
   "outputs": [],
   "source": [
    "df_org = pd.read_csv('netflix_titles.csv')\n",
    "df = df_org.copy()"
   ]
  },
  {
   "cell_type": "markdown",
   "id": "metallic-anthropology",
   "metadata": {},
   "source": [
    "# Data Preprocessing"
   ]
  },
  {
   "cell_type": "code",
   "execution_count": 3,
   "id": "successful-carol",
   "metadata": {},
   "outputs": [
    {
     "data": {
      "text/plain": [
       "(8807, 12)"
      ]
     },
     "execution_count": 3,
     "metadata": {},
     "output_type": "execute_result"
    }
   ],
   "source": [
    "df.shape"
   ]
  },
  {
   "cell_type": "code",
   "execution_count": 4,
   "id": "artificial-slovenia",
   "metadata": {},
   "outputs": [
    {
     "data": {
      "text/html": [
       "<div>\n",
       "<style scoped>\n",
       "    .dataframe tbody tr th:only-of-type {\n",
       "        vertical-align: middle;\n",
       "    }\n",
       "\n",
       "    .dataframe tbody tr th {\n",
       "        vertical-align: top;\n",
       "    }\n",
       "\n",
       "    .dataframe thead th {\n",
       "        text-align: right;\n",
       "    }\n",
       "</style>\n",
       "<table border=\"1\" class=\"dataframe\">\n",
       "  <thead>\n",
       "    <tr style=\"text-align: right;\">\n",
       "      <th></th>\n",
       "      <th>show_id</th>\n",
       "      <th>type</th>\n",
       "      <th>title</th>\n",
       "      <th>director</th>\n",
       "      <th>cast</th>\n",
       "      <th>country</th>\n",
       "      <th>date_added</th>\n",
       "      <th>release_year</th>\n",
       "      <th>rating</th>\n",
       "      <th>duration</th>\n",
       "      <th>listed_in</th>\n",
       "      <th>description</th>\n",
       "    </tr>\n",
       "  </thead>\n",
       "  <tbody>\n",
       "    <tr>\n",
       "      <th>0</th>\n",
       "      <td>s1</td>\n",
       "      <td>Movie</td>\n",
       "      <td>Dick Johnson Is Dead</td>\n",
       "      <td>Kirsten Johnson</td>\n",
       "      <td>NaN</td>\n",
       "      <td>United States</td>\n",
       "      <td>September 25, 2021</td>\n",
       "      <td>2020</td>\n",
       "      <td>PG-13</td>\n",
       "      <td>90 min</td>\n",
       "      <td>Documentaries</td>\n",
       "      <td>As her father nears the end of his life, filmm...</td>\n",
       "    </tr>\n",
       "    <tr>\n",
       "      <th>1</th>\n",
       "      <td>s2</td>\n",
       "      <td>TV Show</td>\n",
       "      <td>Blood &amp; Water</td>\n",
       "      <td>NaN</td>\n",
       "      <td>Ama Qamata, Khosi Ngema, Gail Mabalane, Thaban...</td>\n",
       "      <td>South Africa</td>\n",
       "      <td>September 24, 2021</td>\n",
       "      <td>2021</td>\n",
       "      <td>TV-MA</td>\n",
       "      <td>2 Seasons</td>\n",
       "      <td>International TV Shows, TV Dramas, TV Mysteries</td>\n",
       "      <td>After crossing paths at a party, a Cape Town t...</td>\n",
       "    </tr>\n",
       "    <tr>\n",
       "      <th>2</th>\n",
       "      <td>s3</td>\n",
       "      <td>TV Show</td>\n",
       "      <td>Ganglands</td>\n",
       "      <td>Julien Leclercq</td>\n",
       "      <td>Sami Bouajila, Tracy Gotoas, Samuel Jouy, Nabi...</td>\n",
       "      <td>NaN</td>\n",
       "      <td>September 24, 2021</td>\n",
       "      <td>2021</td>\n",
       "      <td>TV-MA</td>\n",
       "      <td>1 Season</td>\n",
       "      <td>Crime TV Shows, International TV Shows, TV Act...</td>\n",
       "      <td>To protect his family from a powerful drug lor...</td>\n",
       "    </tr>\n",
       "    <tr>\n",
       "      <th>3</th>\n",
       "      <td>s4</td>\n",
       "      <td>TV Show</td>\n",
       "      <td>Jailbirds New Orleans</td>\n",
       "      <td>NaN</td>\n",
       "      <td>NaN</td>\n",
       "      <td>NaN</td>\n",
       "      <td>September 24, 2021</td>\n",
       "      <td>2021</td>\n",
       "      <td>TV-MA</td>\n",
       "      <td>1 Season</td>\n",
       "      <td>Docuseries, Reality TV</td>\n",
       "      <td>Feuds, flirtations and toilet talk go down amo...</td>\n",
       "    </tr>\n",
       "    <tr>\n",
       "      <th>4</th>\n",
       "      <td>s5</td>\n",
       "      <td>TV Show</td>\n",
       "      <td>Kota Factory</td>\n",
       "      <td>NaN</td>\n",
       "      <td>Mayur More, Jitendra Kumar, Ranjan Raj, Alam K...</td>\n",
       "      <td>India</td>\n",
       "      <td>September 24, 2021</td>\n",
       "      <td>2021</td>\n",
       "      <td>TV-MA</td>\n",
       "      <td>2 Seasons</td>\n",
       "      <td>International TV Shows, Romantic TV Shows, TV ...</td>\n",
       "      <td>In a city of coaching centers known to train I...</td>\n",
       "    </tr>\n",
       "  </tbody>\n",
       "</table>\n",
       "</div>"
      ],
      "text/plain": [
       "  show_id     type                  title         director  \\\n",
       "0      s1    Movie   Dick Johnson Is Dead  Kirsten Johnson   \n",
       "1      s2  TV Show          Blood & Water              NaN   \n",
       "2      s3  TV Show              Ganglands  Julien Leclercq   \n",
       "3      s4  TV Show  Jailbirds New Orleans              NaN   \n",
       "4      s5  TV Show           Kota Factory              NaN   \n",
       "\n",
       "                                                cast        country  \\\n",
       "0                                                NaN  United States   \n",
       "1  Ama Qamata, Khosi Ngema, Gail Mabalane, Thaban...   South Africa   \n",
       "2  Sami Bouajila, Tracy Gotoas, Samuel Jouy, Nabi...            NaN   \n",
       "3                                                NaN            NaN   \n",
       "4  Mayur More, Jitendra Kumar, Ranjan Raj, Alam K...          India   \n",
       "\n",
       "           date_added  release_year rating   duration  \\\n",
       "0  September 25, 2021          2020  PG-13     90 min   \n",
       "1  September 24, 2021          2021  TV-MA  2 Seasons   \n",
       "2  September 24, 2021          2021  TV-MA   1 Season   \n",
       "3  September 24, 2021          2021  TV-MA   1 Season   \n",
       "4  September 24, 2021          2021  TV-MA  2 Seasons   \n",
       "\n",
       "                                           listed_in  \\\n",
       "0                                      Documentaries   \n",
       "1    International TV Shows, TV Dramas, TV Mysteries   \n",
       "2  Crime TV Shows, International TV Shows, TV Act...   \n",
       "3                             Docuseries, Reality TV   \n",
       "4  International TV Shows, Romantic TV Shows, TV ...   \n",
       "\n",
       "                                         description  \n",
       "0  As her father nears the end of his life, filmm...  \n",
       "1  After crossing paths at a party, a Cape Town t...  \n",
       "2  To protect his family from a powerful drug lor...  \n",
       "3  Feuds, flirtations and toilet talk go down amo...  \n",
       "4  In a city of coaching centers known to train I...  "
      ]
     },
     "execution_count": 4,
     "metadata": {},
     "output_type": "execute_result"
    }
   ],
   "source": [
    "df.head()"
   ]
  },
  {
   "cell_type": "code",
   "execution_count": 5,
   "id": "loving-solomon",
   "metadata": {},
   "outputs": [
    {
     "name": "stdout",
     "output_type": "stream",
     "text": [
      "<class 'pandas.core.frame.DataFrame'>\n",
      "RangeIndex: 8807 entries, 0 to 8806\n",
      "Data columns (total 12 columns):\n",
      " #   Column        Non-Null Count  Dtype \n",
      "---  ------        --------------  ----- \n",
      " 0   show_id       8807 non-null   object\n",
      " 1   type          8807 non-null   object\n",
      " 2   title         8807 non-null   object\n",
      " 3   director      6173 non-null   object\n",
      " 4   cast          7982 non-null   object\n",
      " 5   country       7976 non-null   object\n",
      " 6   date_added    8797 non-null   object\n",
      " 7   release_year  8807 non-null   int64 \n",
      " 8   rating        8803 non-null   object\n",
      " 9   duration      8804 non-null   object\n",
      " 10  listed_in     8807 non-null   object\n",
      " 11  description   8807 non-null   object\n",
      "dtypes: int64(1), object(11)\n",
      "memory usage: 447.3+ KB\n"
     ]
    }
   ],
   "source": [
    "df.info()"
   ]
  },
  {
   "cell_type": "code",
   "execution_count": 6,
   "id": "patient-university",
   "metadata": {},
   "outputs": [
    {
     "data": {
      "text/plain": [
       "show_id         8807\n",
       "type               2\n",
       "title           8804\n",
       "director        4528\n",
       "cast            7692\n",
       "country          748\n",
       "date_added      1767\n",
       "release_year      74\n",
       "rating            17\n",
       "duration         220\n",
       "listed_in        514\n",
       "description     8775\n",
       "dtype: int64"
      ]
     },
     "execution_count": 6,
     "metadata": {},
     "output_type": "execute_result"
    }
   ],
   "source": [
    "df.nunique()"
   ]
  },
  {
   "cell_type": "code",
   "execution_count": 7,
   "id": "moving-microphone",
   "metadata": {},
   "outputs": [
    {
     "data": {
      "text/plain": [
       "array(['Movie', 'TV Show'], dtype=object)"
      ]
     },
     "execution_count": 7,
     "metadata": {},
     "output_type": "execute_result"
    }
   ],
   "source": [
    "df['type'].unique()"
   ]
  },
  {
   "cell_type": "code",
   "execution_count": 8,
   "id": "olive-travel",
   "metadata": {},
   "outputs": [
    {
     "data": {
      "text/html": [
       "<div>\n",
       "<style scoped>\n",
       "    .dataframe tbody tr th:only-of-type {\n",
       "        vertical-align: middle;\n",
       "    }\n",
       "\n",
       "    .dataframe tbody tr th {\n",
       "        vertical-align: top;\n",
       "    }\n",
       "\n",
       "    .dataframe thead th {\n",
       "        text-align: right;\n",
       "    }\n",
       "</style>\n",
       "<table border=\"1\" class=\"dataframe\">\n",
       "  <thead>\n",
       "    <tr style=\"text-align: right;\">\n",
       "      <th></th>\n",
       "      <th>release_year</th>\n",
       "    </tr>\n",
       "  </thead>\n",
       "  <tbody>\n",
       "    <tr>\n",
       "      <th>count</th>\n",
       "      <td>8807.000000</td>\n",
       "    </tr>\n",
       "    <tr>\n",
       "      <th>mean</th>\n",
       "      <td>2014.180198</td>\n",
       "    </tr>\n",
       "    <tr>\n",
       "      <th>std</th>\n",
       "      <td>8.819312</td>\n",
       "    </tr>\n",
       "    <tr>\n",
       "      <th>min</th>\n",
       "      <td>1925.000000</td>\n",
       "    </tr>\n",
       "    <tr>\n",
       "      <th>25%</th>\n",
       "      <td>2013.000000</td>\n",
       "    </tr>\n",
       "    <tr>\n",
       "      <th>50%</th>\n",
       "      <td>2017.000000</td>\n",
       "    </tr>\n",
       "    <tr>\n",
       "      <th>75%</th>\n",
       "      <td>2019.000000</td>\n",
       "    </tr>\n",
       "    <tr>\n",
       "      <th>max</th>\n",
       "      <td>2021.000000</td>\n",
       "    </tr>\n",
       "  </tbody>\n",
       "</table>\n",
       "</div>"
      ],
      "text/plain": [
       "       release_year\n",
       "count   8807.000000\n",
       "mean    2014.180198\n",
       "std        8.819312\n",
       "min     1925.000000\n",
       "25%     2013.000000\n",
       "50%     2017.000000\n",
       "75%     2019.000000\n",
       "max     2021.000000"
      ]
     },
     "execution_count": 8,
     "metadata": {},
     "output_type": "execute_result"
    }
   ],
   "source": [
    "df.describe()"
   ]
  },
  {
   "cell_type": "code",
   "execution_count": 9,
   "id": "behind-lingerie",
   "metadata": {},
   "outputs": [
    {
     "data": {
      "text/html": [
       "<div>\n",
       "<style scoped>\n",
       "    .dataframe tbody tr th:only-of-type {\n",
       "        vertical-align: middle;\n",
       "    }\n",
       "\n",
       "    .dataframe tbody tr th {\n",
       "        vertical-align: top;\n",
       "    }\n",
       "\n",
       "    .dataframe thead th {\n",
       "        text-align: right;\n",
       "    }\n",
       "</style>\n",
       "<table border=\"1\" class=\"dataframe\">\n",
       "  <thead>\n",
       "    <tr style=\"text-align: right;\">\n",
       "      <th></th>\n",
       "      <th>show_id</th>\n",
       "      <th>type</th>\n",
       "      <th>title</th>\n",
       "      <th>director</th>\n",
       "      <th>cast</th>\n",
       "      <th>country</th>\n",
       "      <th>date_added</th>\n",
       "      <th>rating</th>\n",
       "      <th>duration</th>\n",
       "      <th>listed_in</th>\n",
       "      <th>description</th>\n",
       "    </tr>\n",
       "  </thead>\n",
       "  <tbody>\n",
       "    <tr>\n",
       "      <th>count</th>\n",
       "      <td>8807</td>\n",
       "      <td>8807</td>\n",
       "      <td>8807</td>\n",
       "      <td>6173</td>\n",
       "      <td>7982</td>\n",
       "      <td>7976</td>\n",
       "      <td>8797</td>\n",
       "      <td>8803</td>\n",
       "      <td>8804</td>\n",
       "      <td>8807</td>\n",
       "      <td>8807</td>\n",
       "    </tr>\n",
       "    <tr>\n",
       "      <th>unique</th>\n",
       "      <td>8807</td>\n",
       "      <td>2</td>\n",
       "      <td>8804</td>\n",
       "      <td>4528</td>\n",
       "      <td>7692</td>\n",
       "      <td>748</td>\n",
       "      <td>1767</td>\n",
       "      <td>17</td>\n",
       "      <td>220</td>\n",
       "      <td>514</td>\n",
       "      <td>8775</td>\n",
       "    </tr>\n",
       "    <tr>\n",
       "      <th>top</th>\n",
       "      <td>s1</td>\n",
       "      <td>Movie</td>\n",
       "      <td>15-Aug</td>\n",
       "      <td>Rajiv Chilaka</td>\n",
       "      <td>David Attenborough</td>\n",
       "      <td>United States</td>\n",
       "      <td>January 1, 2020</td>\n",
       "      <td>TV-MA</td>\n",
       "      <td>1 Season</td>\n",
       "      <td>Dramas, International Movies</td>\n",
       "      <td>Paranormal activity at a lush, abandoned prope...</td>\n",
       "    </tr>\n",
       "    <tr>\n",
       "      <th>freq</th>\n",
       "      <td>1</td>\n",
       "      <td>6131</td>\n",
       "      <td>2</td>\n",
       "      <td>19</td>\n",
       "      <td>19</td>\n",
       "      <td>2818</td>\n",
       "      <td>109</td>\n",
       "      <td>3207</td>\n",
       "      <td>1793</td>\n",
       "      <td>362</td>\n",
       "      <td>4</td>\n",
       "    </tr>\n",
       "  </tbody>\n",
       "</table>\n",
       "</div>"
      ],
      "text/plain": [
       "       show_id   type   title       director                cast  \\\n",
       "count     8807   8807    8807           6173                7982   \n",
       "unique    8807      2    8804           4528                7692   \n",
       "top         s1  Movie  15-Aug  Rajiv Chilaka  David Attenborough   \n",
       "freq         1   6131       2             19                  19   \n",
       "\n",
       "              country       date_added rating  duration  \\\n",
       "count            7976             8797   8803      8804   \n",
       "unique            748             1767     17       220   \n",
       "top     United States  January 1, 2020  TV-MA  1 Season   \n",
       "freq             2818              109   3207      1793   \n",
       "\n",
       "                           listed_in  \\\n",
       "count                           8807   \n",
       "unique                           514   \n",
       "top     Dramas, International Movies   \n",
       "freq                             362   \n",
       "\n",
       "                                              description  \n",
       "count                                                8807  \n",
       "unique                                               8775  \n",
       "top     Paranormal activity at a lush, abandoned prope...  \n",
       "freq                                                    4  "
      ]
     },
     "execution_count": 9,
     "metadata": {},
     "output_type": "execute_result"
    }
   ],
   "source": [
    "df.describe(include='object')"
   ]
  },
  {
   "cell_type": "code",
   "execution_count": 10,
   "id": "correct-right",
   "metadata": {},
   "outputs": [
    {
     "data": {
      "text/plain": [
       "CategoricalDtype(categories=['Movie', 'TV Show'], ordered=False)"
      ]
     },
     "execution_count": 10,
     "metadata": {},
     "output_type": "execute_result"
    }
   ],
   "source": [
    "# type column have only 2 kind of values so we will convert it into category datatype\n",
    "df['type'] = df['type'].astype('category')\n",
    "df['type'].dtype"
   ]
  },
  {
   "cell_type": "code",
   "execution_count": 11,
   "id": "unnecessary-canvas",
   "metadata": {},
   "outputs": [
    {
     "data": {
      "text/plain": [
       "dtype('<M8[ns]')"
      ]
     },
     "execution_count": 11,
     "metadata": {},
     "output_type": "execute_result"
    }
   ],
   "source": [
    "# date_added should be in date\n",
    "df['date_added'] = df['date_added'].astype('datetime64')\n",
    "df.dtypes['date_added']"
   ]
  },
  {
   "cell_type": "code",
   "execution_count": 12,
   "id": "southwest-cooperation",
   "metadata": {},
   "outputs": [
    {
     "data": {
      "text/plain": [
       "show_id            0\n",
       "type               0\n",
       "title              0\n",
       "director        2634\n",
       "cast             825\n",
       "country          831\n",
       "date_added        10\n",
       "release_year       0\n",
       "rating             4\n",
       "duration           3\n",
       "listed_in          0\n",
       "description        0\n",
       "dtype: int64"
      ]
     },
     "execution_count": 12,
     "metadata": {},
     "output_type": "execute_result"
    }
   ],
   "source": [
    "# checking missing values\n",
    "df.isnull().sum()"
   ]
  },
  {
   "cell_type": "markdown",
   "id": "signed-switzerland",
   "metadata": {},
   "source": [
    "### Handing Missing values"
   ]
  },
  {
   "cell_type": "code",
   "execution_count": 13,
   "id": "activated-relaxation",
   "metadata": {},
   "outputs": [],
   "source": [
    "# 2634 show director and 825 cast are missing we can't do anything for missing values so we are dropping it\n",
    "df.drop(columns={'director','cast'}, inplace=True)\n",
    "# df.drop(columns=['director','cast'], inplace=True)           # use any one "
   ]
  },
  {
   "cell_type": "code",
   "execution_count": 14,
   "id": "challenging-ranch",
   "metadata": {},
   "outputs": [],
   "source": [
    "# country have 831 missing values so we will fill them using maximum occered country (mode)\n",
    "df['country'].fillna(df['country'].mode()[0],inplace=True)"
   ]
  },
  {
   "cell_type": "code",
   "execution_count": 15,
   "id": "encouraging-spectacular",
   "metadata": {},
   "outputs": [],
   "source": [
    "# date_added column have 10 missing values so we are taking dataframe from those in which values are present in it\n",
    "# basically we are dropin those in which date_added is missing(using just another way via notna() method)\n",
    "df=df[df['date_added'].notna()]"
   ]
  },
  {
   "cell_type": "code",
   "execution_count": 16,
   "id": "confidential-majority",
   "metadata": {},
   "outputs": [],
   "source": [
    "# 4 rating are missing so we will fill them using maximum occering value  which is mode\n",
    "df['rating'].fillna(df['rating'].value_counts().index[0], inplace=True)"
   ]
  },
  {
   "cell_type": "code",
   "execution_count": 17,
   "id": "altered-sample",
   "metadata": {},
   "outputs": [
    {
     "data": {
      "text/html": [
       "<div>\n",
       "<style scoped>\n",
       "    .dataframe tbody tr th:only-of-type {\n",
       "        vertical-align: middle;\n",
       "    }\n",
       "\n",
       "    .dataframe tbody tr th {\n",
       "        vertical-align: top;\n",
       "    }\n",
       "\n",
       "    .dataframe thead th {\n",
       "        text-align: right;\n",
       "    }\n",
       "</style>\n",
       "<table border=\"1\" class=\"dataframe\">\n",
       "  <thead>\n",
       "    <tr style=\"text-align: right;\">\n",
       "      <th></th>\n",
       "      <th>show_id</th>\n",
       "      <th>type</th>\n",
       "      <th>title</th>\n",
       "      <th>country</th>\n",
       "      <th>date_added</th>\n",
       "      <th>release_year</th>\n",
       "      <th>rating</th>\n",
       "      <th>duration</th>\n",
       "      <th>listed_in</th>\n",
       "      <th>description</th>\n",
       "    </tr>\n",
       "  </thead>\n",
       "  <tbody>\n",
       "    <tr>\n",
       "      <th>5541</th>\n",
       "      <td>s5542</td>\n",
       "      <td>Movie</td>\n",
       "      <td>Louis C.K. 2017</td>\n",
       "      <td>United States</td>\n",
       "      <td>2017-04-04</td>\n",
       "      <td>2017</td>\n",
       "      <td>74 min</td>\n",
       "      <td>NaN</td>\n",
       "      <td>Movies</td>\n",
       "      <td>Louis C.K. muses on religion, eternal love, gi...</td>\n",
       "    </tr>\n",
       "    <tr>\n",
       "      <th>5794</th>\n",
       "      <td>s5795</td>\n",
       "      <td>Movie</td>\n",
       "      <td>Louis C.K.: Hilarious</td>\n",
       "      <td>United States</td>\n",
       "      <td>2016-09-16</td>\n",
       "      <td>2010</td>\n",
       "      <td>84 min</td>\n",
       "      <td>NaN</td>\n",
       "      <td>Movies</td>\n",
       "      <td>Emmy-winning comedy writer Louis C.K. brings h...</td>\n",
       "    </tr>\n",
       "    <tr>\n",
       "      <th>5813</th>\n",
       "      <td>s5814</td>\n",
       "      <td>Movie</td>\n",
       "      <td>Louis C.K.: Live at the Comedy Store</td>\n",
       "      <td>United States</td>\n",
       "      <td>2016-08-15</td>\n",
       "      <td>2015</td>\n",
       "      <td>66 min</td>\n",
       "      <td>NaN</td>\n",
       "      <td>Movies</td>\n",
       "      <td>The comic puts his trademark hilarious/thought...</td>\n",
       "    </tr>\n",
       "  </tbody>\n",
       "</table>\n",
       "</div>"
      ],
      "text/plain": [
       "     show_id   type                                 title        country  \\\n",
       "5541   s5542  Movie                       Louis C.K. 2017  United States   \n",
       "5794   s5795  Movie                 Louis C.K.: Hilarious  United States   \n",
       "5813   s5814  Movie  Louis C.K.: Live at the Comedy Store  United States   \n",
       "\n",
       "     date_added  release_year  rating duration listed_in  \\\n",
       "5541 2017-04-04          2017  74 min      NaN    Movies   \n",
       "5794 2016-09-16          2010  84 min      NaN    Movies   \n",
       "5813 2016-08-15          2015  66 min      NaN    Movies   \n",
       "\n",
       "                                            description  \n",
       "5541  Louis C.K. muses on religion, eternal love, gi...  \n",
       "5794  Emmy-winning comedy writer Louis C.K. brings h...  \n",
       "5813  The comic puts his trademark hilarious/thought...  "
      ]
     },
     "execution_count": 17,
     "metadata": {},
     "output_type": "execute_result"
    }
   ],
   "source": [
    "# 3 values are missing in duration \n",
    "df[df['duration'].isna()]             # we can see that duration values are placaed in rating "
   ]
  },
  {
   "cell_type": "code",
   "execution_count": 18,
   "id": "spatial-marathon",
   "metadata": {},
   "outputs": [],
   "source": [
    "df.loc[[5541,5794,5813],'duration'] = df.loc[[5541,5794,5813]]['rating'].values   # filled with rating column values"
   ]
  },
  {
   "cell_type": "code",
   "execution_count": 19,
   "id": "toxic-hypothesis",
   "metadata": {},
   "outputs": [],
   "source": [
    "df.loc[[5541,5794,5813],'rating'] = [np.NaN,np.NaN,np.NaN]                         # filled rating column with nan"
   ]
  },
  {
   "cell_type": "code",
   "execution_count": 20,
   "id": "corrected-malaysia",
   "metadata": {},
   "outputs": [
    {
     "data": {
      "text/html": [
       "<div>\n",
       "<style scoped>\n",
       "    .dataframe tbody tr th:only-of-type {\n",
       "        vertical-align: middle;\n",
       "    }\n",
       "\n",
       "    .dataframe tbody tr th {\n",
       "        vertical-align: top;\n",
       "    }\n",
       "\n",
       "    .dataframe thead th {\n",
       "        text-align: right;\n",
       "    }\n",
       "</style>\n",
       "<table border=\"1\" class=\"dataframe\">\n",
       "  <thead>\n",
       "    <tr style=\"text-align: right;\">\n",
       "      <th></th>\n",
       "      <th>show_id</th>\n",
       "      <th>type</th>\n",
       "      <th>title</th>\n",
       "      <th>country</th>\n",
       "      <th>date_added</th>\n",
       "      <th>release_year</th>\n",
       "      <th>rating</th>\n",
       "      <th>duration</th>\n",
       "      <th>listed_in</th>\n",
       "      <th>description</th>\n",
       "    </tr>\n",
       "  </thead>\n",
       "  <tbody>\n",
       "    <tr>\n",
       "      <th>5541</th>\n",
       "      <td>s5542</td>\n",
       "      <td>Movie</td>\n",
       "      <td>Louis C.K. 2017</td>\n",
       "      <td>United States</td>\n",
       "      <td>2017-04-04</td>\n",
       "      <td>2017</td>\n",
       "      <td>NaN</td>\n",
       "      <td>74 min</td>\n",
       "      <td>Movies</td>\n",
       "      <td>Louis C.K. muses on religion, eternal love, gi...</td>\n",
       "    </tr>\n",
       "    <tr>\n",
       "      <th>5794</th>\n",
       "      <td>s5795</td>\n",
       "      <td>Movie</td>\n",
       "      <td>Louis C.K.: Hilarious</td>\n",
       "      <td>United States</td>\n",
       "      <td>2016-09-16</td>\n",
       "      <td>2010</td>\n",
       "      <td>NaN</td>\n",
       "      <td>84 min</td>\n",
       "      <td>Movies</td>\n",
       "      <td>Emmy-winning comedy writer Louis C.K. brings h...</td>\n",
       "    </tr>\n",
       "    <tr>\n",
       "      <th>5813</th>\n",
       "      <td>s5814</td>\n",
       "      <td>Movie</td>\n",
       "      <td>Louis C.K.: Live at the Comedy Store</td>\n",
       "      <td>United States</td>\n",
       "      <td>2016-08-15</td>\n",
       "      <td>2015</td>\n",
       "      <td>NaN</td>\n",
       "      <td>66 min</td>\n",
       "      <td>Movies</td>\n",
       "      <td>The comic puts his trademark hilarious/thought...</td>\n",
       "    </tr>\n",
       "  </tbody>\n",
       "</table>\n",
       "</div>"
      ],
      "text/plain": [
       "     show_id   type                                 title        country  \\\n",
       "5541   s5542  Movie                       Louis C.K. 2017  United States   \n",
       "5794   s5795  Movie                 Louis C.K.: Hilarious  United States   \n",
       "5813   s5814  Movie  Louis C.K.: Live at the Comedy Store  United States   \n",
       "\n",
       "     date_added  release_year rating duration listed_in  \\\n",
       "5541 2017-04-04          2017    NaN   74 min    Movies   \n",
       "5794 2016-09-16          2010    NaN   84 min    Movies   \n",
       "5813 2016-08-15          2015    NaN   66 min    Movies   \n",
       "\n",
       "                                            description  \n",
       "5541  Louis C.K. muses on religion, eternal love, gi...  \n",
       "5794  Emmy-winning comedy writer Louis C.K. brings h...  \n",
       "5813  The comic puts his trademark hilarious/thought...  "
      ]
     },
     "execution_count": 20,
     "metadata": {},
     "output_type": "execute_result"
    }
   ],
   "source": [
    "df.loc[[5541,5794,5813]]"
   ]
  },
  {
   "cell_type": "code",
   "execution_count": 21,
   "id": "greenhouse-replacement",
   "metadata": {},
   "outputs": [],
   "source": [
    "# 3 rating are Nan because of above code so we will fill them using maximum occering value  which is mode\n",
    "df['rating'].fillna(df['rating'].mode()[0], inplace=True)"
   ]
  },
  {
   "cell_type": "code",
   "execution_count": 22,
   "id": "accessory-reform",
   "metadata": {},
   "outputs": [
    {
     "name": "stdout",
     "output_type": "stream",
     "text": [
      "<class 'pandas.core.frame.DataFrame'>\n",
      "Int64Index: 8797 entries, 0 to 8806\n",
      "Data columns (total 10 columns):\n",
      " #   Column        Non-Null Count  Dtype         \n",
      "---  ------        --------------  -----         \n",
      " 0   show_id       8797 non-null   object        \n",
      " 1   type          8797 non-null   category      \n",
      " 2   title         8797 non-null   object        \n",
      " 3   country       8797 non-null   object        \n",
      " 4   date_added    8797 non-null   datetime64[ns]\n",
      " 5   release_year  8797 non-null   int64         \n",
      " 6   rating        8797 non-null   object        \n",
      " 7   duration      8797 non-null   object        \n",
      " 8   listed_in     8797 non-null   object        \n",
      " 9   description   8797 non-null   object        \n",
      "dtypes: category(1), datetime64[ns](1), int64(1), object(7)\n",
      "memory usage: 649.4+ KB\n"
     ]
    }
   ],
   "source": [
    "df.info()"
   ]
  },
  {
   "cell_type": "markdown",
   "id": "cheap-hepatitis",
   "metadata": {},
   "source": [
    "### Checking for duplicates"
   ]
  },
  {
   "cell_type": "code",
   "execution_count": 23,
   "id": "absolute-career",
   "metadata": {},
   "outputs": [
    {
     "data": {
      "text/plain": [
       "0"
      ]
     },
     "execution_count": 23,
     "metadata": {},
     "output_type": "execute_result"
    }
   ],
   "source": [
    "# checking entire row is duplicating or not\n",
    "df.duplicated().sum()"
   ]
  },
  {
   "cell_type": "code",
   "execution_count": 24,
   "id": "involved-details",
   "metadata": {},
   "outputs": [
    {
     "data": {
      "text/plain": [
       "3"
      ]
     },
     "execution_count": 24,
     "metadata": {},
     "output_type": "execute_result"
    }
   ],
   "source": [
    "# Checking shows are duplicating or not\n",
    "df['title'].duplicated().sum()"
   ]
  },
  {
   "cell_type": "code",
   "execution_count": 25,
   "id": "domestic-insured",
   "metadata": {},
   "outputs": [
    {
     "data": {
      "text/html": [
       "<div>\n",
       "<style scoped>\n",
       "    .dataframe tbody tr th:only-of-type {\n",
       "        vertical-align: middle;\n",
       "    }\n",
       "\n",
       "    .dataframe tbody tr th {\n",
       "        vertical-align: top;\n",
       "    }\n",
       "\n",
       "    .dataframe thead th {\n",
       "        text-align: right;\n",
       "    }\n",
       "</style>\n",
       "<table border=\"1\" class=\"dataframe\">\n",
       "  <thead>\n",
       "    <tr style=\"text-align: right;\">\n",
       "      <th></th>\n",
       "      <th>show_id</th>\n",
       "      <th>type</th>\n",
       "      <th>title</th>\n",
       "      <th>country</th>\n",
       "      <th>date_added</th>\n",
       "      <th>release_year</th>\n",
       "      <th>rating</th>\n",
       "      <th>duration</th>\n",
       "      <th>listed_in</th>\n",
       "      <th>description</th>\n",
       "    </tr>\n",
       "  </thead>\n",
       "  <tbody>\n",
       "    <tr>\n",
       "      <th>5964</th>\n",
       "      <td>s5965</td>\n",
       "      <td>TV Show</td>\n",
       "      <td>Feb-09</td>\n",
       "      <td>United States</td>\n",
       "      <td>2019-03-20</td>\n",
       "      <td>2018</td>\n",
       "      <td>TV-14</td>\n",
       "      <td>1 Season</td>\n",
       "      <td>International TV Shows, TV Dramas</td>\n",
       "      <td>As a psychology professor faces Alzheimer's, h...</td>\n",
       "    </tr>\n",
       "    <tr>\n",
       "      <th>5965</th>\n",
       "      <td>s5966</td>\n",
       "      <td>Movie</td>\n",
       "      <td>22-Jul</td>\n",
       "      <td>Norway, Iceland, United States</td>\n",
       "      <td>2018-10-10</td>\n",
       "      <td>2018</td>\n",
       "      <td>R</td>\n",
       "      <td>144 min</td>\n",
       "      <td>Dramas, Thrillers</td>\n",
       "      <td>After devastating terror attacks in Norway, a ...</td>\n",
       "    </tr>\n",
       "    <tr>\n",
       "      <th>5966</th>\n",
       "      <td>s5967</td>\n",
       "      <td>Movie</td>\n",
       "      <td>15-Aug</td>\n",
       "      <td>India</td>\n",
       "      <td>2019-03-29</td>\n",
       "      <td>2019</td>\n",
       "      <td>TV-14</td>\n",
       "      <td>124 min</td>\n",
       "      <td>Comedies, Dramas, Independent Movies</td>\n",
       "      <td>On India's Independence Day, a zany mishap in ...</td>\n",
       "    </tr>\n",
       "  </tbody>\n",
       "</table>\n",
       "</div>"
      ],
      "text/plain": [
       "     show_id     type   title                         country date_added  \\\n",
       "5964   s5965  TV Show  Feb-09                   United States 2019-03-20   \n",
       "5965   s5966    Movie  22-Jul  Norway, Iceland, United States 2018-10-10   \n",
       "5966   s5967    Movie  15-Aug                           India 2019-03-29   \n",
       "\n",
       "      release_year rating  duration                             listed_in  \\\n",
       "5964          2018  TV-14  1 Season     International TV Shows, TV Dramas   \n",
       "5965          2018      R   144 min                     Dramas, Thrillers   \n",
       "5966          2019  TV-14   124 min  Comedies, Dramas, Independent Movies   \n",
       "\n",
       "                                            description  \n",
       "5964  As a psychology professor faces Alzheimer's, h...  \n",
       "5965  After devastating terror attacks in Norway, a ...  \n",
       "5966  On India's Independence Day, a zany mishap in ...  "
      ]
     },
     "execution_count": 25,
     "metadata": {},
     "output_type": "execute_result"
    }
   ],
   "source": [
    "df[df['title'].duplicated()]               # they are not movies so we will drop them and thier original movie aslo"
   ]
  },
  {
   "cell_type": "code",
   "execution_count": 26,
   "id": "extreme-participation",
   "metadata": {
    "scrolled": true
   },
   "outputs": [
    {
     "data": {
      "text/plain": [
       "0"
      ]
     },
     "execution_count": 26,
     "metadata": {},
     "output_type": "execute_result"
    }
   ],
   "source": [
    "# droing duplicated and wrong values from dataframe\n",
    "df.drop(df[df['title'].duplicated(keep=False)].index, inplace=True)\n",
    "df['title'].duplicated().sum()                                           # after dropping, check"
   ]
  },
  {
   "cell_type": "markdown",
   "id": "final-nevada",
   "metadata": {},
   "source": [
    "### Feature engineering"
   ]
  },
  {
   "cell_type": "markdown",
   "id": "linear-employment",
   "metadata": {},
   "source": [
    "- we will create a column for month_added and year_added"
   ]
  },
  {
   "cell_type": "code",
   "execution_count": 27,
   "id": "characteristic-bikini",
   "metadata": {},
   "outputs": [],
   "source": [
    "df['month_added'] = df['date_added'].apply(lambda x: x.strftime(\"%B\"))"
   ]
  },
  {
   "cell_type": "code",
   "execution_count": 28,
   "id": "identical-butterfly",
   "metadata": {},
   "outputs": [],
   "source": [
    "df['year_added'] = df['date_added'].apply(lambda x: x.year)"
   ]
  },
  {
   "cell_type": "markdown",
   "id": "ruled-linux",
   "metadata": {},
   "source": [
    "- rating column is actually based on the target age so we will create in column 'targeted_age'. [Reference](https://www.amazon.com/gp/help/customer/display.html?nodeId=G2C2CPZWGZWHZ42J)"
   ]
  },
  {
   "cell_type": "code",
   "execution_count": 29,
   "id": "partial-stadium",
   "metadata": {},
   "outputs": [],
   "source": [
    "rating_ages = {\n",
    "    'TV-PG': 'Older Kids',\n",
    "    'TV-MA': 'Adults',\n",
    "    'TV-Y7-FV': 'Older Kids',\n",
    "    'TV-Y7': 'Older Kids',\n",
    "    'TV-14': 'Teens',\n",
    "    'R': 'Adults',\n",
    "    'TV-Y': 'Kids',\n",
    "    'NR': 'Adults',\n",
    "    'PG-13': 'Teens',\n",
    "    'TV-G': 'Kids',\n",
    "    'PG': 'Older Kids',\n",
    "    'G': 'Kids',\n",
    "    'UR': 'Adults',\n",
    "    'NC-17': 'Adults'\n",
    "}"
   ]
  },
  {
   "cell_type": "code",
   "execution_count": 30,
   "id": "cutting-problem",
   "metadata": {},
   "outputs": [],
   "source": [
    "# creating new feature\n",
    "df['targeted_age'] = df['rating'].replace(rating_ages)"
   ]
  },
  {
   "cell_type": "code",
   "execution_count": 31,
   "id": "multiple-ultimate",
   "metadata": {},
   "outputs": [
    {
     "data": {
      "text/plain": [
       "array(['Teens', 'Adults', 'Older Kids', 'Kids'], dtype=object)"
      ]
     },
     "execution_count": 31,
     "metadata": {},
     "output_type": "execute_result"
    }
   ],
   "source": [
    "df['targeted_age'].unique()"
   ]
  },
  {
   "cell_type": "code",
   "execution_count": 32,
   "id": "adapted-border",
   "metadata": {},
   "outputs": [],
   "source": [
    "# there are only 4 unique category of targeted_age so we will convert it into category\n",
    "df['targeted_age'] = df['targeted_age'].astype('category')"
   ]
  },
  {
   "cell_type": "markdown",
   "id": "downtown-works",
   "metadata": {},
   "source": [
    "- In country coumn there are more than one county, maybe they are thier subsidiary country so we keep the first only"
   ]
  },
  {
   "cell_type": "code",
   "execution_count": 33,
   "id": "persistent-beach",
   "metadata": {},
   "outputs": [],
   "source": [
    "df['country'] = df['country'].apply(lambda x : x.split(',')[0])"
   ]
  },
  {
   "cell_type": "markdown",
   "id": "posted-father",
   "metadata": {},
   "source": [
    "##### Droping redundant column"
   ]
  },
  {
   "cell_type": "code",
   "execution_count": 34,
   "id": "understood-villa",
   "metadata": {},
   "outputs": [],
   "source": [
    "df.drop(columns=['rating'], inplace=True)"
   ]
  },
  {
   "cell_type": "code",
   "execution_count": 35,
   "id": "laden-transsexual",
   "metadata": {},
   "outputs": [
    {
     "data": {
      "text/html": [
       "<div>\n",
       "<style scoped>\n",
       "    .dataframe tbody tr th:only-of-type {\n",
       "        vertical-align: middle;\n",
       "    }\n",
       "\n",
       "    .dataframe tbody tr th {\n",
       "        vertical-align: top;\n",
       "    }\n",
       "\n",
       "    .dataframe thead th {\n",
       "        text-align: right;\n",
       "    }\n",
       "</style>\n",
       "<table border=\"1\" class=\"dataframe\">\n",
       "  <thead>\n",
       "    <tr style=\"text-align: right;\">\n",
       "      <th></th>\n",
       "      <th>show_id</th>\n",
       "      <th>type</th>\n",
       "      <th>title</th>\n",
       "      <th>country</th>\n",
       "      <th>date_added</th>\n",
       "      <th>release_year</th>\n",
       "      <th>duration</th>\n",
       "      <th>listed_in</th>\n",
       "      <th>description</th>\n",
       "      <th>month_added</th>\n",
       "      <th>year_added</th>\n",
       "      <th>targeted_age</th>\n",
       "    </tr>\n",
       "  </thead>\n",
       "  <tbody>\n",
       "    <tr>\n",
       "      <th>46</th>\n",
       "      <td>s47</td>\n",
       "      <td>Movie</td>\n",
       "      <td>Safe House</td>\n",
       "      <td>South Africa</td>\n",
       "      <td>2021-09-16</td>\n",
       "      <td>2012</td>\n",
       "      <td>115 min</td>\n",
       "      <td>Action &amp; Adventure</td>\n",
       "      <td>Young CIA operative Matt Weston must get a dan...</td>\n",
       "      <td>September</td>\n",
       "      <td>2021</td>\n",
       "      <td>Adults</td>\n",
       "    </tr>\n",
       "    <tr>\n",
       "      <th>5130</th>\n",
       "      <td>s5131</td>\n",
       "      <td>Movie</td>\n",
       "      <td>Jaal</td>\n",
       "      <td>India</td>\n",
       "      <td>2017-12-08</td>\n",
       "      <td>1986</td>\n",
       "      <td>162 min</td>\n",
       "      <td>Action &amp; Adventure, International Movies</td>\n",
       "      <td>When a mysterious woman hires Shankar to spy o...</td>\n",
       "      <td>December</td>\n",
       "      <td>2017</td>\n",
       "      <td>Teens</td>\n",
       "    </tr>\n",
       "  </tbody>\n",
       "</table>\n",
       "</div>"
      ],
      "text/plain": [
       "     show_id   type       title       country date_added  release_year  \\\n",
       "46       s47  Movie  Safe House  South Africa 2021-09-16          2012   \n",
       "5130   s5131  Movie        Jaal         India 2017-12-08          1986   \n",
       "\n",
       "     duration                                 listed_in  \\\n",
       "46    115 min                        Action & Adventure   \n",
       "5130  162 min  Action & Adventure, International Movies   \n",
       "\n",
       "                                            description month_added  \\\n",
       "46    Young CIA operative Matt Weston must get a dan...   September   \n",
       "5130  When a mysterious woman hires Shankar to spy o...    December   \n",
       "\n",
       "      year_added targeted_age  \n",
       "46          2021       Adults  \n",
       "5130        2017        Teens  "
      ]
     },
     "execution_count": 35,
     "metadata": {},
     "output_type": "execute_result"
    }
   ],
   "source": [
    "df.sample(2)"
   ]
  },
  {
   "cell_type": "markdown",
   "id": "characteristic-equivalent",
   "metadata": {},
   "source": [
    "### Conclusion from cleaning"
   ]
  },
  {
   "cell_type": "markdown",
   "id": "utility-producer",
   "metadata": {},
   "source": [
    "- All Movies have duration in min\n",
    "- All Tv Show have duration in season"
   ]
  },
  {
   "cell_type": "code",
   "execution_count": 36,
   "id": "consolidated-expert",
   "metadata": {},
   "outputs": [
    {
     "data": {
      "text/plain": [
       "array(['2 Seasons', '1 Season', '9 Seasons', '4 Seasons', '5 Seasons',\n",
       "       '3 Seasons', '6 Seasons', '7 Seasons', '10 Seasons', '8 Seasons',\n",
       "       '17 Seasons', '13 Seasons', '15 Seasons', '12 Seasons',\n",
       "       '11 Seasons'], dtype=object)"
      ]
     },
     "execution_count": 36,
     "metadata": {},
     "output_type": "execute_result"
    }
   ],
   "source": [
    "# checking durations\n",
    "df[df['type']=='TV Show']['duration'].unique()"
   ]
  },
  {
   "cell_type": "code",
   "execution_count": 37,
   "id": "periodic-transmission",
   "metadata": {},
   "outputs": [],
   "source": [
    "# we are removing excess part in duration and converting it into numeric\n",
    "df['duration'] = df['duration'].apply(lambda x: x.split(' ')[0])\n",
    "df['duration'] = df['duration'].astype('int')"
   ]
  },
  {
   "cell_type": "markdown",
   "id": "eleven-philip",
   "metadata": {},
   "source": [
    "- First we create two dataframe one for movies and othe for TV Show"
   ]
  },
  {
   "cell_type": "markdown",
   "id": "increased-nursery",
   "metadata": {},
   "source": [
    "##### Creating dataframe for type 'Movie'\n"
   ]
  },
  {
   "cell_type": "code",
   "execution_count": 38,
   "id": "finite-underground",
   "metadata": {},
   "outputs": [],
   "source": [
    "Movie_df = df[df['type']=='Movie']"
   ]
  },
  {
   "cell_type": "code",
   "execution_count": 39,
   "id": "thorough-microwave",
   "metadata": {},
   "outputs": [
    {
     "name": "stderr",
     "output_type": "stream",
     "text": [
      "<ipython-input-39-74d107d615e7>:2: SettingWithCopyWarning: \n",
      "A value is trying to be set on a copy of a slice from a DataFrame\n",
      "\n",
      "See the caveats in the documentation: https://pandas.pydata.org/pandas-docs/stable/user_guide/indexing.html#returning-a-view-versus-a-copy\n",
      "  Movie_df.rename(columns = {'duration':'duration_min'}, inplace = True)\n"
     ]
    },
    {
     "data": {
      "text/html": [
       "<div>\n",
       "<style scoped>\n",
       "    .dataframe tbody tr th:only-of-type {\n",
       "        vertical-align: middle;\n",
       "    }\n",
       "\n",
       "    .dataframe tbody tr th {\n",
       "        vertical-align: top;\n",
       "    }\n",
       "\n",
       "    .dataframe thead th {\n",
       "        text-align: right;\n",
       "    }\n",
       "</style>\n",
       "<table border=\"1\" class=\"dataframe\">\n",
       "  <thead>\n",
       "    <tr style=\"text-align: right;\">\n",
       "      <th></th>\n",
       "      <th>show_id</th>\n",
       "      <th>type</th>\n",
       "      <th>title</th>\n",
       "      <th>country</th>\n",
       "      <th>date_added</th>\n",
       "      <th>release_year</th>\n",
       "      <th>duration_min</th>\n",
       "      <th>listed_in</th>\n",
       "      <th>description</th>\n",
       "      <th>month_added</th>\n",
       "      <th>year_added</th>\n",
       "      <th>targeted_age</th>\n",
       "    </tr>\n",
       "  </thead>\n",
       "  <tbody>\n",
       "    <tr>\n",
       "      <th>1211</th>\n",
       "      <td>s1212</td>\n",
       "      <td>Movie</td>\n",
       "      <td>Mucize</td>\n",
       "      <td>Turkey</td>\n",
       "      <td>2021-03-12</td>\n",
       "      <td>2015</td>\n",
       "      <td>136</td>\n",
       "      <td>Dramas, International Movies</td>\n",
       "      <td>Sent away from his family to a remote mountain...</td>\n",
       "      <td>March</td>\n",
       "      <td>2021</td>\n",
       "      <td>Teens</td>\n",
       "    </tr>\n",
       "  </tbody>\n",
       "</table>\n",
       "</div>"
      ],
      "text/plain": [
       "     show_id   type   title country date_added  release_year  duration_min  \\\n",
       "1211   s1212  Movie  Mucize  Turkey 2021-03-12          2015           136   \n",
       "\n",
       "                         listed_in  \\\n",
       "1211  Dramas, International Movies   \n",
       "\n",
       "                                            description month_added  \\\n",
       "1211  Sent away from his family to a remote mountain...       March   \n",
       "\n",
       "      year_added targeted_age  \n",
       "1211        2021        Teens  "
      ]
     },
     "execution_count": 39,
     "metadata": {},
     "output_type": "execute_result"
    }
   ],
   "source": [
    "# renaming column name duration to duration_min\n",
    "Movie_df.rename(columns = {'duration':'duration_min'}, inplace = True)\n",
    "Movie_df.sample()"
   ]
  },
  {
   "cell_type": "markdown",
   "id": "english-appointment",
   "metadata": {},
   "source": [
    "##### Creating new dataframe for type 'TV Show'"
   ]
  },
  {
   "cell_type": "code",
   "execution_count": 40,
   "id": "local-reynolds",
   "metadata": {},
   "outputs": [],
   "source": [
    "TV_Show_df = df[df['type']=='TV Show']\n"
   ]
  },
  {
   "cell_type": "code",
   "execution_count": 41,
   "id": "million-office",
   "metadata": {},
   "outputs": [
    {
     "name": "stderr",
     "output_type": "stream",
     "text": [
      "<ipython-input-41-509c5937d6aa>:2: SettingWithCopyWarning: \n",
      "A value is trying to be set on a copy of a slice from a DataFrame\n",
      "\n",
      "See the caveats in the documentation: https://pandas.pydata.org/pandas-docs/stable/user_guide/indexing.html#returning-a-view-versus-a-copy\n",
      "  TV_Show_df.rename(columns = {'duration':'season'}, inplace = True)\n"
     ]
    },
    {
     "data": {
      "text/html": [
       "<div>\n",
       "<style scoped>\n",
       "    .dataframe tbody tr th:only-of-type {\n",
       "        vertical-align: middle;\n",
       "    }\n",
       "\n",
       "    .dataframe tbody tr th {\n",
       "        vertical-align: top;\n",
       "    }\n",
       "\n",
       "    .dataframe thead th {\n",
       "        text-align: right;\n",
       "    }\n",
       "</style>\n",
       "<table border=\"1\" class=\"dataframe\">\n",
       "  <thead>\n",
       "    <tr style=\"text-align: right;\">\n",
       "      <th></th>\n",
       "      <th>show_id</th>\n",
       "      <th>type</th>\n",
       "      <th>title</th>\n",
       "      <th>country</th>\n",
       "      <th>date_added</th>\n",
       "      <th>release_year</th>\n",
       "      <th>season</th>\n",
       "      <th>listed_in</th>\n",
       "      <th>description</th>\n",
       "      <th>month_added</th>\n",
       "      <th>year_added</th>\n",
       "      <th>targeted_age</th>\n",
       "    </tr>\n",
       "  </thead>\n",
       "  <tbody>\n",
       "    <tr>\n",
       "      <th>8679</th>\n",
       "      <td>s8680</td>\n",
       "      <td>TV Show</td>\n",
       "      <td>ViR: The Robot Boy</td>\n",
       "      <td>United States</td>\n",
       "      <td>2018-03-31</td>\n",
       "      <td>2013</td>\n",
       "      <td>2</td>\n",
       "      <td>Kids' TV</td>\n",
       "      <td>Humanoid robot boy ViR lives with his inventor...</td>\n",
       "      <td>March</td>\n",
       "      <td>2018</td>\n",
       "      <td>Older Kids</td>\n",
       "    </tr>\n",
       "  </tbody>\n",
       "</table>\n",
       "</div>"
      ],
      "text/plain": [
       "     show_id     type               title        country date_added  \\\n",
       "8679   s8680  TV Show  ViR: The Robot Boy  United States 2018-03-31   \n",
       "\n",
       "      release_year  season listed_in  \\\n",
       "8679          2013       2  Kids' TV   \n",
       "\n",
       "                                            description month_added  \\\n",
       "8679  Humanoid robot boy ViR lives with his inventor...       March   \n",
       "\n",
       "      year_added targeted_age  \n",
       "8679        2018   Older Kids  "
      ]
     },
     "execution_count": 41,
     "metadata": {},
     "output_type": "execute_result"
    }
   ],
   "source": [
    "# Changing column name to duration to season\n",
    "TV_Show_df.rename(columns = {'duration':'season'}, inplace = True)\n",
    "TV_Show_df.sample()"
   ]
  },
  {
   "cell_type": "markdown",
   "id": "greenhouse-commerce",
   "metadata": {},
   "source": [
    "# Univariate Analysis\n",
    "We will follow this order by column wise for univariate analysis\n",
    "- Categorical\n",
    "- Numerical"
   ]
  },
  {
   "cell_type": "markdown",
   "id": "optimum-reality",
   "metadata": {},
   "source": [
    "### type"
   ]
  },
  {
   "cell_type": "code",
   "execution_count": 42,
   "id": "asian-female",
   "metadata": {},
   "outputs": [
    {
     "data": {
      "text/plain": [
       "8791"
      ]
     },
     "execution_count": 42,
     "metadata": {},
     "output_type": "execute_result"
    }
   ],
   "source": [
    "df['type'].shape[0]"
   ]
  },
  {
   "cell_type": "code",
   "execution_count": 43,
   "id": "architectural-wilderness",
   "metadata": {},
   "outputs": [
    {
     "data": {
      "text/plain": [
       "Movie      6127\n",
       "TV Show    2664\n",
       "Name: type, dtype: int64"
      ]
     },
     "execution_count": 43,
     "metadata": {},
     "output_type": "execute_result"
    }
   ],
   "source": [
    "df['type'].value_counts()"
   ]
  },
  {
   "cell_type": "code",
   "execution_count": 44,
   "id": "independent-sympathy",
   "metadata": {},
   "outputs": [
    {
     "data": {
      "image/png": "[encoded data removed]",
      "text/plain": [
       "<Figure size 432x288 with 1 Axes>"
      ]
     },
     "metadata": {
      "needs_background": "light"
     },
     "output_type": "display_data"
    }
   ],
   "source": [
    "sns.countplot(x=df['type'])\n",
    "plt.show()"
   ]
  },
  {
   "cell_type": "code",
   "execution_count": 45,
   "id": "advance-subscriber",
   "metadata": {},
   "outputs": [
    {
     "data": {
      "image/png": "[encoded data removed]",
      "text/plain": [
       "<Figure size 432x288 with 1 Axes>"
      ]
     },
     "metadata": {},
     "output_type": "display_data"
    }
   ],
   "source": [
    "df['type'].value_counts().plot(kind='pie', autopct='%.2f')\n",
    "plt.show()"
   ]
  },
  {
   "cell_type": "code",
   "execution_count": 46,
   "id": "joint-authority",
   "metadata": {},
   "outputs": [],
   "source": [
    "# out of 8791 there are 6127 Movies and TV shows are 2664\n",
    "# nearly 70 percent are movies and 30 percent are TV Shows"
   ]
  },
  {
   "cell_type": "markdown",
   "id": "received-customs",
   "metadata": {},
   "source": [
    "### targated_age"
   ]
  },
  {
   "cell_type": "code",
   "execution_count": 47,
   "id": "pursuant-polish",
   "metadata": {},
   "outputs": [
    {
     "data": {
      "text/plain": [
       "8791"
      ]
     },
     "execution_count": 47,
     "metadata": {},
     "output_type": "execute_result"
    }
   ],
   "source": [
    "df['targeted_age'].count()"
   ]
  },
  {
   "cell_type": "code",
   "execution_count": 48,
   "id": "nonprofit-reynolds",
   "metadata": {},
   "outputs": [
    {
     "data": {
      "text/plain": [
       "Adults        4094\n",
       "Teens         2643\n",
       "Older Kids    1487\n",
       "Kids           567\n",
       "Name: targeted_age, dtype: int64"
      ]
     },
     "execution_count": 48,
     "metadata": {},
     "output_type": "execute_result"
    }
   ],
   "source": [
    "df['targeted_age'].value_counts()"
   ]
  },
  {
   "cell_type": "code",
   "execution_count": 49,
   "id": "regulation-winning",
   "metadata": {},
   "outputs": [
    {
     "data": {
      "image/png": "[encoded data removed]",
      "text/plain": [
       "<Figure size 432x288 with 1 Axes>"
      ]
     },
     "metadata": {
      "needs_background": "light"
     },
     "output_type": "display_data"
    }
   ],
   "source": [
    "sns.countplot(x=df['targeted_age'])\n",
    "plt.show()"
   ]
  },
  {
   "cell_type": "code",
   "execution_count": 50,
   "id": "comprehensive-banking",
   "metadata": {},
   "outputs": [
    {
     "data": {
      "image/png": "[encoded data removed]",
      "text/plain": [
       "<Figure size 432x288 with 1 Axes>"
      ]
     },
     "metadata": {},
     "output_type": "display_data"
    }
   ],
   "source": [
    "df['targeted_age'].value_counts().plot(kind='pie', autopct='%.1f')\n",
    "plt.show()"
   ]
  },
  {
   "cell_type": "code",
   "execution_count": 51,
   "id": "alive-infection",
   "metadata": {},
   "outputs": [],
   "source": [
    "# there are 8791 movies and out of that Adult movies are maxium which 4091\n",
    "# 47 percent movies are adult movies"
   ]
  },
  {
   "cell_type": "markdown",
   "id": "virgin-sunrise",
   "metadata": {},
   "source": [
    "### release_year"
   ]
  },
  {
   "cell_type": "code",
   "execution_count": 52,
   "id": "chemical-activity",
   "metadata": {},
   "outputs": [
    {
     "data": {
      "image/png": "[encoded data removed]",
      "text/plain": [
       "<Figure size 432x288 with 1 Axes>"
      ]
     },
     "metadata": {
      "needs_background": "light"
     },
     "output_type": "display_data"
    }
   ],
   "source": [
    "plt.hist(df['release_year'], bins=20)\n",
    "plt.show()"
   ]
  },
  {
   "cell_type": "code",
   "execution_count": 53,
   "id": "greater-thickness",
   "metadata": {
    "scrolled": true
   },
   "outputs": [
    {
     "name": "stderr",
     "output_type": "stream",
     "text": [
      "C:\\Users\\CeX\\AppData\\Local\\Programs\\Python\\Python38-32\\lib\\site-packages\\seaborn\\distributions.py:2619: FutureWarning: `distplot` is a deprecated function and will be removed in a future version. Please adapt your code to use either `displot` (a figure-level function with similar flexibility) or `kdeplot` (an axes-level function for kernel density plots).\n",
      "  warnings.warn(msg, FutureWarning)\n"
     ]
    },
    {
     "data": {
      "image/png": "[encoded data removed]",
      "text/plain": [
       "<Figure size 432x288 with 1 Axes>"
      ]
     },
     "metadata": {
      "needs_background": "light"
     },
     "output_type": "display_data"
    }
   ],
   "source": [
    "sns.distplot(df['release_year'], hist=False)\n",
    "plt.show()"
   ]
  },
  {
   "cell_type": "code",
   "execution_count": 54,
   "id": "subtle-joshua",
   "metadata": {},
   "outputs": [
    {
     "name": "stderr",
     "output_type": "stream",
     "text": [
      "C:\\Users\\CeX\\AppData\\Local\\Programs\\Python\\Python38-32\\lib\\site-packages\\seaborn\\_decorators.py:36: FutureWarning: Pass the following variable as a keyword arg: x. From version 0.12, the only valid positional argument will be `data`, and passing other arguments without an explicit keyword will result in an error or misinterpretation.\n",
      "  warnings.warn(\n"
     ]
    },
    {
     "data": {
      "image/png": "[encoded data removed]",
      "text/plain": [
       "<Figure size 432x288 with 1 Axes>"
      ]
     },
     "metadata": {
      "needs_background": "light"
     },
     "output_type": "display_data"
    }
   ],
   "source": [
    "sns.boxplot(df['release_year'])\n",
    "plt.show()"
   ]
  },
  {
   "cell_type": "code",
   "execution_count": 55,
   "id": "internal-campus",
   "metadata": {},
   "outputs": [
    {
     "data": {
      "text/plain": [
       "count    8791.000000\n",
       "mean     2014.180639\n",
       "std         8.824526\n",
       "min      1925.000000\n",
       "25%      2013.000000\n",
       "50%      2017.000000\n",
       "75%      2019.000000\n",
       "max      2021.000000\n",
       "Name: release_year, dtype: float64"
      ]
     },
     "execution_count": 55,
     "metadata": {},
     "output_type": "execute_result"
    }
   ],
   "source": [
    "df['release_year'].describe()"
   ]
  },
  {
   "cell_type": "code",
   "execution_count": 56,
   "id": "beautiful-sheriff",
   "metadata": {
    "scrolled": true
   },
   "outputs": [
    {
     "data": {
      "text/plain": [
       "<AxesSubplot:>"
      ]
     },
     "execution_count": 56,
     "metadata": {},
     "output_type": "execute_result"
    },
    {
     "data": {
      "image/png": "[encoded data removed]",
      "text/plain": [
       "<Figure size 432x288 with 1 Axes>"
      ]
     },
     "metadata": {
      "needs_background": "light"
     },
     "output_type": "display_data"
    }
   ],
   "source": [
    "# top 20 release year in which maximun movie released\n",
    "df['release_year'].value_counts().head(20).plot(kind='bar')"
   ]
  },
  {
   "cell_type": "code",
   "execution_count": 57,
   "id": "irish-interaction",
   "metadata": {},
   "outputs": [],
   "source": [
    "# Maximum movies are released in 2018\n",
    "# Total movies released before 2017 are equal to total movies released 2017 to 2021"
   ]
  },
  {
   "cell_type": "markdown",
   "id": "consolidated-award",
   "metadata": {},
   "source": [
    "### duration"
   ]
  },
  {
   "cell_type": "code",
   "execution_count": 58,
   "id": "saving-villa",
   "metadata": {},
   "outputs": [],
   "source": [
    "# There are two different type of durations for Movies it's in miniutes and for TV Shows it's in season"
   ]
  },
  {
   "cell_type": "markdown",
   "id": "stupid-newcastle",
   "metadata": {},
   "source": [
    "<b>first we will see about duration which is in `duration_min` from `Movie_df`</b>"
   ]
  },
  {
   "cell_type": "code",
   "execution_count": 59,
   "id": "threaded-graham",
   "metadata": {},
   "outputs": [
    {
     "data": {
      "image/png": "[encoded data removed]",
      "text/plain": [
       "<Figure size 432x288 with 1 Axes>"
      ]
     },
     "metadata": {
      "needs_background": "light"
     },
     "output_type": "display_data"
    }
   ],
   "source": [
    "plt.hist(Movie_df['duration_min'])\n",
    "plt.show()"
   ]
  },
  {
   "cell_type": "code",
   "execution_count": 60,
   "id": "narrow-interest",
   "metadata": {},
   "outputs": [
    {
     "name": "stderr",
     "output_type": "stream",
     "text": [
      "C:\\Users\\CeX\\AppData\\Local\\Programs\\Python\\Python38-32\\lib\\site-packages\\seaborn\\distributions.py:2619: FutureWarning: `distplot` is a deprecated function and will be removed in a future version. Please adapt your code to use either `displot` (a figure-level function with similar flexibility) or `histplot` (an axes-level function for histograms).\n",
      "  warnings.warn(msg, FutureWarning)\n"
     ]
    },
    {
     "data": {
      "image/png": "[encoded data removed]",
      "text/plain": [
       "<Figure size 432x288 with 1 Axes>"
      ]
     },
     "metadata": {
      "needs_background": "light"
     },
     "output_type": "display_data"
    }
   ],
   "source": [
    "sns.distplot(Movie_df['duration_min'])\n",
    "plt.show()"
   ]
  },
  {
   "cell_type": "code",
   "execution_count": 61,
   "id": "medieval-baking",
   "metadata": {},
   "outputs": [
    {
     "name": "stderr",
     "output_type": "stream",
     "text": [
      "C:\\Users\\CeX\\AppData\\Local\\Programs\\Python\\Python38-32\\lib\\site-packages\\seaborn\\_decorators.py:36: FutureWarning: Pass the following variable as a keyword arg: x. From version 0.12, the only valid positional argument will be `data`, and passing other arguments without an explicit keyword will result in an error or misinterpretation.\n",
      "  warnings.warn(\n"
     ]
    },
    {
     "data": {
      "image/png": "[encoded data removed]",
      "text/plain": [
       "<Figure size 432x288 with 1 Axes>"
      ]
     },
     "metadata": {
      "needs_background": "light"
     },
     "output_type": "display_data"
    }
   ],
   "source": [
    "sns.boxplot(Movie_df['duration_min'])\n",
    "plt.show()"
   ]
  },
  {
   "cell_type": "code",
   "execution_count": 62,
   "id": "british-mathematics",
   "metadata": {},
   "outputs": [
    {
     "data": {
      "text/plain": [
       "count    6127.000000\n",
       "mean       99.542517\n",
       "std        28.283892\n",
       "min         3.000000\n",
       "25%        87.000000\n",
       "50%        98.000000\n",
       "75%       114.000000\n",
       "max       312.000000\n",
       "Name: duration_min, dtype: float64"
      ]
     },
     "execution_count": 62,
     "metadata": {},
     "output_type": "execute_result"
    }
   ],
   "source": [
    "Movie_df['duration_min'].describe()"
   ]
  },
  {
   "cell_type": "code",
   "execution_count": 63,
   "id": "unable-coral",
   "metadata": {},
   "outputs": [],
   "source": [
    "# The average movie time is 100 mins\n",
    "# maximum movies are in the range of 87 to 114 minutes\n",
    "# we can see that there are sevral movies which are less than 50 mins so we can consider them outlier"
   ]
  },
  {
   "cell_type": "markdown",
   "id": "terminal-canon",
   "metadata": {},
   "source": [
    "<b> Now we will see about duration which is in the form of `season` form `TV_Show_df`</b>"
   ]
  },
  {
   "cell_type": "code",
   "execution_count": 64,
   "id": "three-amazon",
   "metadata": {},
   "outputs": [
    {
     "data": {
      "text/plain": [
       "(array([2.212e+03, 2.920e+02, 6.400e+01, 5.600e+01, 1.700e+01, 1.500e+01,\n",
       "        3.000e+00, 2.000e+00, 2.000e+00, 1.000e+00]),\n",
       " array([ 1. ,  2.6,  4.2,  5.8,  7.4,  9. , 10.6, 12.2, 13.8, 15.4, 17. ]),\n",
       " <BarContainer object of 10 artists>)"
      ]
     },
     "execution_count": 64,
     "metadata": {},
     "output_type": "execute_result"
    },
    {
     "data": {
      "image/png": "[encoded data removed]",
      "text/plain": [
       "<Figure size 432x288 with 1 Axes>"
      ]
     },
     "metadata": {
      "needs_background": "light"
     },
     "output_type": "display_data"
    }
   ],
   "source": [
    "plt.hist(TV_Show_df['season'])"
   ]
  },
  {
   "cell_type": "code",
   "execution_count": 65,
   "id": "sharp-static",
   "metadata": {},
   "outputs": [
    {
     "name": "stderr",
     "output_type": "stream",
     "text": [
      "C:\\Users\\CeX\\AppData\\Local\\Programs\\Python\\Python38-32\\lib\\site-packages\\seaborn\\distributions.py:2619: FutureWarning: `distplot` is a deprecated function and will be removed in a future version. Please adapt your code to use either `displot` (a figure-level function with similar flexibility) or `histplot` (an axes-level function for histograms).\n",
      "  warnings.warn(msg, FutureWarning)\n"
     ]
    },
    {
     "data": {
      "text/plain": [
       "<AxesSubplot:xlabel='season', ylabel='Density'>"
      ]
     },
     "execution_count": 65,
     "metadata": {},
     "output_type": "execute_result"
    },
    {
     "data": {
      "image/png": "[encoded data removed]",
      "text/plain": [
       "<Figure size 432x288 with 1 Axes>"
      ]
     },
     "metadata": {
      "needs_background": "light"
     },
     "output_type": "display_data"
    }
   ],
   "source": [
    "sns.distplot(TV_Show_df['season'])"
   ]
  },
  {
   "cell_type": "code",
   "execution_count": 66,
   "id": "chicken-times",
   "metadata": {},
   "outputs": [
    {
     "name": "stderr",
     "output_type": "stream",
     "text": [
      "C:\\Users\\CeX\\AppData\\Local\\Programs\\Python\\Python38-32\\lib\\site-packages\\seaborn\\_decorators.py:36: FutureWarning: Pass the following variable as a keyword arg: x. From version 0.12, the only valid positional argument will be `data`, and passing other arguments without an explicit keyword will result in an error or misinterpretation.\n",
      "  warnings.warn(\n"
     ]
    },
    {
     "data": {
      "text/plain": [
       "<AxesSubplot:xlabel='season'>"
      ]
     },
     "execution_count": 66,
     "metadata": {},
     "output_type": "execute_result"
    },
    {
     "data": {
      "image/png": "[encoded data removed]",
      "text/plain": [
       "<Figure size 432x288 with 1 Axes>"
      ]
     },
     "metadata": {
      "needs_background": "light"
     },
     "output_type": "display_data"
    }
   ],
   "source": [
    "sns.boxplot(TV_Show_df['season'])"
   ]
  },
  {
   "cell_type": "code",
   "execution_count": 67,
   "id": "bright-delaware",
   "metadata": {},
   "outputs": [
    {
     "data": {
      "text/plain": [
       "count    2664.000000\n",
       "mean        1.751877\n",
       "std         1.550622\n",
       "min         1.000000\n",
       "25%         1.000000\n",
       "50%         1.000000\n",
       "75%         2.000000\n",
       "max        17.000000\n",
       "Name: season, dtype: float64"
      ]
     },
     "execution_count": 67,
     "metadata": {},
     "output_type": "execute_result"
    }
   ],
   "source": [
    "TV_Show_df['season'].describe()"
   ]
  },
  {
   "cell_type": "code",
   "execution_count": 68,
   "id": "complicated-venue",
   "metadata": {},
   "outputs": [
    {
     "data": {
      "text/plain": [
       "<AxesSubplot:>"
      ]
     },
     "execution_count": 68,
     "metadata": {},
     "output_type": "execute_result"
    },
    {
     "data": {
      "image/png": "[encoded data removed]",
      "text/plain": [
       "<Figure size 432x288 with 1 Axes>"
      ]
     },
     "metadata": {
      "needs_background": "light"
     },
     "output_type": "display_data"
    }
   ],
   "source": [
    "TV_Show_df['season'].value_counts().plot(kind='bar')"
   ]
  },
  {
   "cell_type": "code",
   "execution_count": 69,
   "id": "written-listening",
   "metadata": {},
   "outputs": [
    {
     "data": {
      "text/html": [
       "<div>\n",
       "<style scoped>\n",
       "    .dataframe tbody tr th:only-of-type {\n",
       "        vertical-align: middle;\n",
       "    }\n",
       "\n",
       "    .dataframe tbody tr th {\n",
       "        vertical-align: top;\n",
       "    }\n",
       "\n",
       "    .dataframe thead th {\n",
       "        text-align: right;\n",
       "    }\n",
       "</style>\n",
       "<table border=\"1\" class=\"dataframe\">\n",
       "  <thead>\n",
       "    <tr style=\"text-align: right;\">\n",
       "      <th></th>\n",
       "      <th>show_id</th>\n",
       "      <th>type</th>\n",
       "      <th>title</th>\n",
       "      <th>country</th>\n",
       "      <th>date_added</th>\n",
       "      <th>release_year</th>\n",
       "      <th>season</th>\n",
       "      <th>listed_in</th>\n",
       "      <th>description</th>\n",
       "      <th>month_added</th>\n",
       "      <th>year_added</th>\n",
       "      <th>targeted_age</th>\n",
       "    </tr>\n",
       "  </thead>\n",
       "  <tbody>\n",
       "    <tr>\n",
       "      <th>548</th>\n",
       "      <td>s549</td>\n",
       "      <td>TV Show</td>\n",
       "      <td>Grey's Anatomy</td>\n",
       "      <td>United States</td>\n",
       "      <td>2021-07-03</td>\n",
       "      <td>2020</td>\n",
       "      <td>17</td>\n",
       "      <td>Romantic TV Shows, TV Dramas</td>\n",
       "      <td>Intern (and eventual resident) Meredith Grey f...</td>\n",
       "      <td>July</td>\n",
       "      <td>2021</td>\n",
       "      <td>Teens</td>\n",
       "    </tr>\n",
       "  </tbody>\n",
       "</table>\n",
       "</div>"
      ],
      "text/plain": [
       "    show_id     type           title        country date_added  release_year  \\\n",
       "548    s549  TV Show  Grey's Anatomy  United States 2021-07-03          2020   \n",
       "\n",
       "     season                     listed_in  \\\n",
       "548      17  Romantic TV Shows, TV Dramas   \n",
       "\n",
       "                                           description month_added  \\\n",
       "548  Intern (and eventual resident) Meredith Grey f...        July   \n",
       "\n",
       "     year_added targeted_age  \n",
       "548        2021        Teens  "
      ]
     },
     "execution_count": 69,
     "metadata": {},
     "output_type": "execute_result"
    }
   ],
   "source": [
    "TV_Show_df[TV_Show_df['season']>15]"
   ]
  },
  {
   "cell_type": "code",
   "execution_count": 70,
   "id": "charitable-house",
   "metadata": {},
   "outputs": [],
   "source": [
    "# There are total 2664 TV Shows\n",
    "# Nearly 1800 TV Shows have only one season\n",
    "# There is one TV show who have maximun 17 seasons"
   ]
  },
  {
   "cell_type": "markdown",
   "id": "double-poland",
   "metadata": {},
   "source": [
    "### year_added"
   ]
  },
  {
   "cell_type": "code",
   "execution_count": 71,
   "id": "intermediate-retrieval",
   "metadata": {},
   "outputs": [
    {
     "data": {
      "text/plain": [
       "<AxesSubplot:ylabel='Frequency'>"
      ]
     },
     "execution_count": 71,
     "metadata": {},
     "output_type": "execute_result"
    },
    {
     "data": {
      "image/png": "[encoded data removed]",
      "text/plain": [
       "<Figure size 432x288 with 1 Axes>"
      ]
     },
     "metadata": {
      "needs_background": "light"
     },
     "output_type": "display_data"
    }
   ],
   "source": [
    "df['year_added'].plot(kind='hist')"
   ]
  },
  {
   "cell_type": "code",
   "execution_count": 72,
   "id": "front-princess",
   "metadata": {},
   "outputs": [
    {
     "name": "stderr",
     "output_type": "stream",
     "text": [
      "C:\\Users\\CeX\\AppData\\Local\\Programs\\Python\\Python38-32\\lib\\site-packages\\seaborn\\distributions.py:2619: FutureWarning: `distplot` is a deprecated function and will be removed in a future version. Please adapt your code to use either `displot` (a figure-level function with similar flexibility) or `histplot` (an axes-level function for histograms).\n",
      "  warnings.warn(msg, FutureWarning)\n"
     ]
    },
    {
     "data": {
      "text/plain": [
       "<AxesSubplot:xlabel='year_added', ylabel='Density'>"
      ]
     },
     "execution_count": 72,
     "metadata": {},
     "output_type": "execute_result"
    },
    {
     "data": {
      "image/png": "[encoded data removed]",
      "text/plain": [
       "<Figure size 432x288 with 1 Axes>"
      ]
     },
     "metadata": {
      "needs_background": "light"
     },
     "output_type": "display_data"
    }
   ],
   "source": [
    "sns.distplot(df['year_added'])"
   ]
  },
  {
   "cell_type": "code",
   "execution_count": 73,
   "id": "electoral-telescope",
   "metadata": {},
   "outputs": [
    {
     "data": {
      "text/plain": [
       "<AxesSubplot:>"
      ]
     },
     "execution_count": 73,
     "metadata": {},
     "output_type": "execute_result"
    },
    {
     "data": {
      "image/png": "[encoded data removed]",
      "text/plain": [
       "<Figure size 432x288 with 1 Axes>"
      ]
     },
     "metadata": {
      "needs_background": "light"
     },
     "output_type": "display_data"
    }
   ],
   "source": [
    "df['year_added'].value_counts().plot(kind='bar')"
   ]
  },
  {
   "cell_type": "code",
   "execution_count": 74,
   "id": "declared-reminder",
   "metadata": {},
   "outputs": [],
   "source": [
    "# After 2017 Movies and Tv Shows added maximum\n",
    "# in 2019 nearly 2000 Movies and TV Shows are added"
   ]
  },
  {
   "cell_type": "markdown",
   "id": "valuable-lease",
   "metadata": {},
   "source": [
    "# Bivariate and Multivariate Analysis\n",
    "We will follow this order to do bivariate and multivariate analysis\n",
    "- Numerical - Numerical\n",
    "- Numerical - Categorical\n",
    "- Categorical - Categorical"
   ]
  },
  {
   "cell_type": "markdown",
   "id": "adapted-agent",
   "metadata": {},
   "source": [
    "### (release_year ) (duration - type)"
   ]
  },
  {
   "cell_type": "code",
   "execution_count": 75,
   "id": "opponent-landscape",
   "metadata": {
    "scrolled": true
   },
   "outputs": [
    {
     "data": {
      "text/plain": [
       "<AxesSubplot:xlabel='release_year', ylabel='duration'>"
      ]
     },
     "execution_count": 75,
     "metadata": {},
     "output_type": "execute_result"
    },
    {
     "data": {
      "image/png": "[encoded data removed]",
      "text/plain": [
       "<Figure size 432x288 with 1 Axes>"
      ]
     },
     "metadata": {
      "needs_background": "light"
     },
     "output_type": "display_data"
    }
   ],
   "source": [
    "sns.scatterplot(x=df['release_year'], y=df['duration'], hue=df['type'])"
   ]
  },
  {
   "cell_type": "code",
   "execution_count": 76,
   "id": "parliamentary-endorsement",
   "metadata": {},
   "outputs": [],
   "source": [
    "# Here only one thing we can understand that as year increases the no of movie ans show releases more"
   ]
  },
  {
   "cell_type": "markdown",
   "id": "imposed-beijing",
   "metadata": {},
   "source": [
    "### (targeted_age) (duration_min)"
   ]
  },
  {
   "cell_type": "code",
   "execution_count": 77,
   "id": "returning-compensation",
   "metadata": {},
   "outputs": [
    {
     "data": {
      "text/plain": [
       "<AxesSubplot:xlabel='targeted_age', ylabel='duration_min'>"
      ]
     },
     "execution_count": 77,
     "metadata": {},
     "output_type": "execute_result"
    },
    {
     "data": {
      "image/png": "[encoded data removed]",
      "text/plain": [
       "<Figure size 432x288 with 1 Axes>"
      ]
     },
     "metadata": {
      "needs_background": "light"
     },
     "output_type": "display_data"
    }
   ],
   "source": [
    "sns.barplot(x=Movie_df['targeted_age'], y=Movie_df['duration_min'])"
   ]
  },
  {
   "cell_type": "code",
   "execution_count": 78,
   "id": "overall-youth",
   "metadata": {},
   "outputs": [],
   "source": [
    "# The kid's movies are small relatively others\n",
    "# The teens movies are large in duration relatively other"
   ]
  },
  {
   "cell_type": "markdown",
   "id": "mineral-application",
   "metadata": {},
   "source": [
    "### (targeted_age) (type)"
   ]
  },
  {
   "cell_type": "code",
   "execution_count": 79,
   "id": "accomplished-wrong",
   "metadata": {},
   "outputs": [
    {
     "data": {
      "text/html": [
       "<div>\n",
       "<style scoped>\n",
       "    .dataframe tbody tr th:only-of-type {\n",
       "        vertical-align: middle;\n",
       "    }\n",
       "\n",
       "    .dataframe tbody tr th {\n",
       "        vertical-align: top;\n",
       "    }\n",
       "\n",
       "    .dataframe thead th {\n",
       "        text-align: right;\n",
       "    }\n",
       "</style>\n",
       "<table border=\"1\" class=\"dataframe\">\n",
       "  <thead>\n",
       "    <tr style=\"text-align: right;\">\n",
       "      <th>type</th>\n",
       "      <th>Movie</th>\n",
       "      <th>TV Show</th>\n",
       "    </tr>\n",
       "    <tr>\n",
       "      <th>targeted_age</th>\n",
       "      <th></th>\n",
       "      <th></th>\n",
       "    </tr>\n",
       "  </thead>\n",
       "  <tbody>\n",
       "    <tr>\n",
       "      <th>Adults</th>\n",
       "      <td>71.89</td>\n",
       "      <td>28.11</td>\n",
       "    </tr>\n",
       "    <tr>\n",
       "      <th>Kids</th>\n",
       "      <td>52.56</td>\n",
       "      <td>47.44</td>\n",
       "    </tr>\n",
       "    <tr>\n",
       "      <th>Older Kids</th>\n",
       "      <td>65.30</td>\n",
       "      <td>34.70</td>\n",
       "    </tr>\n",
       "    <tr>\n",
       "      <th>Teens</th>\n",
       "      <td>72.46</td>\n",
       "      <td>27.54</td>\n",
       "    </tr>\n",
       "  </tbody>\n",
       "</table>\n",
       "</div>"
      ],
      "text/plain": [
       "type          Movie  TV Show\n",
       "targeted_age                \n",
       "Adults        71.89    28.11\n",
       "Kids          52.56    47.44\n",
       "Older Kids    65.30    34.70\n",
       "Teens         72.46    27.54"
      ]
     },
     "execution_count": 79,
     "metadata": {},
     "output_type": "execute_result"
    },
    {
     "data": {
      "image/png": "[encoded data removed]",
      "text/plain": [
       "<Figure size 432x288 with 2 Axes>"
      ]
     },
     "metadata": {
      "needs_background": "light"
     },
     "output_type": "display_data"
    }
   ],
   "source": [
    "sns.heatmap(pd.crosstab(df['targeted_age'], df['type']), annot=True)\n",
    "pd.crosstab(df['targeted_age'], df['type']).apply(lambda x: round((x/x.sum())*100,2), axis=1)"
   ]
  },
  {
   "cell_type": "code",
   "execution_count": 80,
   "id": "graphic-farming",
   "metadata": {},
   "outputs": [],
   "source": [
    "# In Adult 72% are movies and 28% TV Show so we can understand that adult prefer to watch movie rather than TV Shows\n",
    "# Kids are neutral, ther are equal no of Movies and Tv Shows for them\n",
    "# There are 65% movies and 35% Tv shows for targetd older kids\n",
    "# In Teens 72% are movies and 28% TV Show so we can understand that Tenns also prefer to watch movie rather than TV Shows"
   ]
  },
  {
   "cell_type": "markdown",
   "id": "warming-latvia",
   "metadata": {},
   "source": [
    "### (month_added) (year_added) (no of show_id)"
   ]
  },
  {
   "cell_type": "code",
   "execution_count": 81,
   "id": "clean-monroe",
   "metadata": {},
   "outputs": [
    {
     "data": {
      "text/html": [
       "<div>\n",
       "<style scoped>\n",
       "    .dataframe tbody tr th:only-of-type {\n",
       "        vertical-align: middle;\n",
       "    }\n",
       "\n",
       "    .dataframe tbody tr th {\n",
       "        vertical-align: top;\n",
       "    }\n",
       "\n",
       "    .dataframe thead th {\n",
       "        text-align: right;\n",
       "    }\n",
       "</style>\n",
       "<table border=\"1\" class=\"dataframe\">\n",
       "  <thead>\n",
       "    <tr style=\"text-align: right;\">\n",
       "      <th>year_added</th>\n",
       "      <th>2008</th>\n",
       "      <th>2009</th>\n",
       "      <th>2010</th>\n",
       "      <th>2011</th>\n",
       "      <th>2012</th>\n",
       "      <th>2013</th>\n",
       "      <th>2014</th>\n",
       "      <th>2015</th>\n",
       "      <th>2016</th>\n",
       "      <th>2017</th>\n",
       "      <th>2018</th>\n",
       "      <th>2019</th>\n",
       "      <th>2020</th>\n",
       "      <th>2021</th>\n",
       "    </tr>\n",
       "    <tr>\n",
       "      <th>month_added</th>\n",
       "      <th></th>\n",
       "      <th></th>\n",
       "      <th></th>\n",
       "      <th></th>\n",
       "      <th></th>\n",
       "      <th></th>\n",
       "      <th></th>\n",
       "      <th></th>\n",
       "      <th></th>\n",
       "      <th></th>\n",
       "      <th></th>\n",
       "      <th></th>\n",
       "      <th></th>\n",
       "      <th></th>\n",
       "    </tr>\n",
       "  </thead>\n",
       "  <tbody>\n",
       "    <tr>\n",
       "      <th>April</th>\n",
       "      <td>NaN</td>\n",
       "      <td>NaN</td>\n",
       "      <td>NaN</td>\n",
       "      <td>NaN</td>\n",
       "      <td>NaN</td>\n",
       "      <td>NaN</td>\n",
       "      <td>2.0</td>\n",
       "      <td>5.0</td>\n",
       "      <td>22.0</td>\n",
       "      <td>93.0</td>\n",
       "      <td>115.0</td>\n",
       "      <td>162.0</td>\n",
       "      <td>177.0</td>\n",
       "      <td>188.0</td>\n",
       "    </tr>\n",
       "    <tr>\n",
       "      <th>August</th>\n",
       "      <td>NaN</td>\n",
       "      <td>NaN</td>\n",
       "      <td>NaN</td>\n",
       "      <td>NaN</td>\n",
       "      <td>NaN</td>\n",
       "      <td>1.0</td>\n",
       "      <td>1.0</td>\n",
       "      <td>2.0</td>\n",
       "      <td>34.0</td>\n",
       "      <td>115.0</td>\n",
       "      <td>164.0</td>\n",
       "      <td>131.0</td>\n",
       "      <td>129.0</td>\n",
       "      <td>178.0</td>\n",
       "    </tr>\n",
       "    <tr>\n",
       "      <th>December</th>\n",
       "      <td>NaN</td>\n",
       "      <td>NaN</td>\n",
       "      <td>NaN</td>\n",
       "      <td>NaN</td>\n",
       "      <td>1.0</td>\n",
       "      <td>2.0</td>\n",
       "      <td>6.0</td>\n",
       "      <td>21.0</td>\n",
       "      <td>96.0</td>\n",
       "      <td>118.0</td>\n",
       "      <td>185.0</td>\n",
       "      <td>215.0</td>\n",
       "      <td>169.0</td>\n",
       "      <td>NaN</td>\n",
       "    </tr>\n",
       "    <tr>\n",
       "      <th>February</th>\n",
       "      <td>1.0</td>\n",
       "      <td>NaN</td>\n",
       "      <td>NaN</td>\n",
       "      <td>NaN</td>\n",
       "      <td>1.0</td>\n",
       "      <td>NaN</td>\n",
       "      <td>2.0</td>\n",
       "      <td>4.0</td>\n",
       "      <td>15.0</td>\n",
       "      <td>82.0</td>\n",
       "      <td>87.0</td>\n",
       "      <td>148.0</td>\n",
       "      <td>114.0</td>\n",
       "      <td>109.0</td>\n",
       "    </tr>\n",
       "    <tr>\n",
       "      <th>January</th>\n",
       "      <td>1.0</td>\n",
       "      <td>NaN</td>\n",
       "      <td>NaN</td>\n",
       "      <td>NaN</td>\n",
       "      <td>NaN</td>\n",
       "      <td>NaN</td>\n",
       "      <td>2.0</td>\n",
       "      <td>1.0</td>\n",
       "      <td>43.0</td>\n",
       "      <td>72.0</td>\n",
       "      <td>129.0</td>\n",
       "      <td>153.0</td>\n",
       "      <td>205.0</td>\n",
       "      <td>132.0</td>\n",
       "    </tr>\n",
       "    <tr>\n",
       "      <th>July</th>\n",
       "      <td>NaN</td>\n",
       "      <td>NaN</td>\n",
       "      <td>NaN</td>\n",
       "      <td>NaN</td>\n",
       "      <td>NaN</td>\n",
       "      <td>NaN</td>\n",
       "      <td>1.0</td>\n",
       "      <td>7.0</td>\n",
       "      <td>28.0</td>\n",
       "      <td>79.0</td>\n",
       "      <td>152.0</td>\n",
       "      <td>157.0</td>\n",
       "      <td>146.0</td>\n",
       "      <td>257.0</td>\n",
       "    </tr>\n",
       "    <tr>\n",
       "      <th>June</th>\n",
       "      <td>NaN</td>\n",
       "      <td>NaN</td>\n",
       "      <td>NaN</td>\n",
       "      <td>NaN</td>\n",
       "      <td>NaN</td>\n",
       "      <td>NaN</td>\n",
       "      <td>1.0</td>\n",
       "      <td>6.0</td>\n",
       "      <td>18.0</td>\n",
       "      <td>94.0</td>\n",
       "      <td>78.0</td>\n",
       "      <td>168.0</td>\n",
       "      <td>156.0</td>\n",
       "      <td>207.0</td>\n",
       "    </tr>\n",
       "    <tr>\n",
       "      <th>March</th>\n",
       "      <td>NaN</td>\n",
       "      <td>NaN</td>\n",
       "      <td>NaN</td>\n",
       "      <td>NaN</td>\n",
       "      <td>NaN</td>\n",
       "      <td>1.0</td>\n",
       "      <td>NaN</td>\n",
       "      <td>5.0</td>\n",
       "      <td>17.0</td>\n",
       "      <td>125.0</td>\n",
       "      <td>173.0</td>\n",
       "      <td>168.0</td>\n",
       "      <td>137.0</td>\n",
       "      <td>112.0</td>\n",
       "    </tr>\n",
       "    <tr>\n",
       "      <th>May</th>\n",
       "      <td>NaN</td>\n",
       "      <td>1.0</td>\n",
       "      <td>NaN</td>\n",
       "      <td>1.0</td>\n",
       "      <td>NaN</td>\n",
       "      <td>NaN</td>\n",
       "      <td>NaN</td>\n",
       "      <td>6.0</td>\n",
       "      <td>13.0</td>\n",
       "      <td>86.0</td>\n",
       "      <td>97.0</td>\n",
       "      <td>139.0</td>\n",
       "      <td>157.0</td>\n",
       "      <td>132.0</td>\n",
       "    </tr>\n",
       "    <tr>\n",
       "      <th>November</th>\n",
       "      <td>NaN</td>\n",
       "      <td>1.0</td>\n",
       "      <td>1.0</td>\n",
       "      <td>NaN</td>\n",
       "      <td>1.0</td>\n",
       "      <td>2.0</td>\n",
       "      <td>4.0</td>\n",
       "      <td>4.0</td>\n",
       "      <td>44.0</td>\n",
       "      <td>85.0</td>\n",
       "      <td>154.0</td>\n",
       "      <td>255.0</td>\n",
       "      <td>154.0</td>\n",
       "      <td>NaN</td>\n",
       "    </tr>\n",
       "    <tr>\n",
       "      <th>October</th>\n",
       "      <td>NaN</td>\n",
       "      <td>NaN</td>\n",
       "      <td>NaN</td>\n",
       "      <td>11.0</td>\n",
       "      <td>NaN</td>\n",
       "      <td>3.0</td>\n",
       "      <td>4.0</td>\n",
       "      <td>14.0</td>\n",
       "      <td>51.0</td>\n",
       "      <td>126.0</td>\n",
       "      <td>189.0</td>\n",
       "      <td>193.0</td>\n",
       "      <td>167.0</td>\n",
       "      <td>NaN</td>\n",
       "    </tr>\n",
       "    <tr>\n",
       "      <th>September</th>\n",
       "      <td>NaN</td>\n",
       "      <td>NaN</td>\n",
       "      <td>NaN</td>\n",
       "      <td>1.0</td>\n",
       "      <td>NaN</td>\n",
       "      <td>2.0</td>\n",
       "      <td>1.0</td>\n",
       "      <td>7.0</td>\n",
       "      <td>48.0</td>\n",
       "      <td>113.0</td>\n",
       "      <td>124.0</td>\n",
       "      <td>123.0</td>\n",
       "      <td>168.0</td>\n",
       "      <td>183.0</td>\n",
       "    </tr>\n",
       "  </tbody>\n",
       "</table>\n",
       "</div>"
      ],
      "text/plain": [
       "year_added   2008  2009  2010  2011  2012  2013  2014  2015  2016   2017  \\\n",
       "month_added                                                                \n",
       "April         NaN   NaN   NaN   NaN   NaN   NaN   2.0   5.0  22.0   93.0   \n",
       "August        NaN   NaN   NaN   NaN   NaN   1.0   1.0   2.0  34.0  115.0   \n",
       "December      NaN   NaN   NaN   NaN   1.0   2.0   6.0  21.0  96.0  118.0   \n",
       "February      1.0   NaN   NaN   NaN   1.0   NaN   2.0   4.0  15.0   82.0   \n",
       "January       1.0   NaN   NaN   NaN   NaN   NaN   2.0   1.0  43.0   72.0   \n",
       "July          NaN   NaN   NaN   NaN   NaN   NaN   1.0   7.0  28.0   79.0   \n",
       "June          NaN   NaN   NaN   NaN   NaN   NaN   1.0   6.0  18.0   94.0   \n",
       "March         NaN   NaN   NaN   NaN   NaN   1.0   NaN   5.0  17.0  125.0   \n",
       "May           NaN   1.0   NaN   1.0   NaN   NaN   NaN   6.0  13.0   86.0   \n",
       "November      NaN   1.0   1.0   NaN   1.0   2.0   4.0   4.0  44.0   85.0   \n",
       "October       NaN   NaN   NaN  11.0   NaN   3.0   4.0  14.0  51.0  126.0   \n",
       "September     NaN   NaN   NaN   1.0   NaN   2.0   1.0   7.0  48.0  113.0   \n",
       "\n",
       "year_added    2018   2019   2020   2021  \n",
       "month_added                              \n",
       "April        115.0  162.0  177.0  188.0  \n",
       "August       164.0  131.0  129.0  178.0  \n",
       "December     185.0  215.0  169.0    NaN  \n",
       "February      87.0  148.0  114.0  109.0  \n",
       "January      129.0  153.0  205.0  132.0  \n",
       "July         152.0  157.0  146.0  257.0  \n",
       "June          78.0  168.0  156.0  207.0  \n",
       "March        173.0  168.0  137.0  112.0  \n",
       "May           97.0  139.0  157.0  132.0  \n",
       "November     154.0  255.0  154.0    NaN  \n",
       "October      189.0  193.0  167.0    NaN  \n",
       "September    124.0  123.0  168.0  183.0  "
      ]
     },
     "execution_count": 81,
     "metadata": {},
     "output_type": "execute_result"
    }
   ],
   "source": [
    "df.pivot_table(index='month_added', columns='year_added', values='show_id', aggfunc='count')"
   ]
  },
  {
   "cell_type": "code",
   "execution_count": 82,
   "id": "powered-dictionary",
   "metadata": {},
   "outputs": [
    {
     "data": {
      "text/plain": [
       "<AxesSubplot:xlabel='year_added', ylabel='month_added'>"
      ]
     },
     "execution_count": 82,
     "metadata": {},
     "output_type": "execute_result"
    },
    {
     "data": {
      "image/png": "[encoded data removed]",
      "text/plain": [
       "<Figure size 432x288 with 2 Axes>"
      ]
     },
     "metadata": {
      "needs_background": "light"
     },
     "output_type": "display_data"
    }
   ],
   "source": [
    "sns.heatmap(df.pivot_table(index='month_added', columns='year_added', values='show_id', aggfunc='count'))"
   ]
  },
  {
   "cell_type": "code",
   "execution_count": 83,
   "id": "anticipated-durham",
   "metadata": {},
   "outputs": [],
   "source": [
    "# After 2016 maximum movies are added in Netflix"
   ]
  },
  {
   "cell_type": "markdown",
   "id": "spread-sculpture",
   "metadata": {},
   "source": [
    "### pair plot with all other numerical column and (type) categorical column "
   ]
  },
  {
   "cell_type": "code",
   "execution_count": 84,
   "id": "computational-bunch",
   "metadata": {},
   "outputs": [
    {
     "data": {
      "text/plain": [
       "<seaborn.axisgrid.PairGrid at 0x6288958>"
      ]
     },
     "execution_count": 84,
     "metadata": {},
     "output_type": "execute_result"
    },
    {
     "data": {
      "image/png": "[encoded data removed]",
      "text/plain": [
       "<Figure size 618.75x540 with 12 Axes>"
      ]
     },
     "metadata": {
      "needs_background": "light"
     },
     "output_type": "display_data"
    }
   ],
   "source": [
    "sns.pairplot(df, hue='type')"
   ]
  },
  {
   "cell_type": "markdown",
   "id": "framed-malawi",
   "metadata": {},
   "source": [
    "### (release_year) and (count of show_id)"
   ]
  },
  {
   "cell_type": "code",
   "execution_count": 85,
   "id": "promotional-cutting",
   "metadata": {},
   "outputs": [
    {
     "data": {
      "text/html": [
       "<div>\n",
       "<style scoped>\n",
       "    .dataframe tbody tr th:only-of-type {\n",
       "        vertical-align: middle;\n",
       "    }\n",
       "\n",
       "    .dataframe tbody tr th {\n",
       "        vertical-align: top;\n",
       "    }\n",
       "\n",
       "    .dataframe thead th {\n",
       "        text-align: right;\n",
       "    }\n",
       "</style>\n",
       "<table border=\"1\" class=\"dataframe\">\n",
       "  <thead>\n",
       "    <tr style=\"text-align: right;\">\n",
       "      <th></th>\n",
       "      <th>release_year</th>\n",
       "      <th>show_id</th>\n",
       "    </tr>\n",
       "  </thead>\n",
       "  <tbody>\n",
       "    <tr>\n",
       "      <th>0</th>\n",
       "      <td>1925</td>\n",
       "      <td>1</td>\n",
       "    </tr>\n",
       "    <tr>\n",
       "      <th>1</th>\n",
       "      <td>1942</td>\n",
       "      <td>2</td>\n",
       "    </tr>\n",
       "    <tr>\n",
       "      <th>2</th>\n",
       "      <td>1943</td>\n",
       "      <td>3</td>\n",
       "    </tr>\n",
       "    <tr>\n",
       "      <th>3</th>\n",
       "      <td>1944</td>\n",
       "      <td>3</td>\n",
       "    </tr>\n",
       "    <tr>\n",
       "      <th>4</th>\n",
       "      <td>1945</td>\n",
       "      <td>4</td>\n",
       "    </tr>\n",
       "  </tbody>\n",
       "</table>\n",
       "</div>"
      ],
      "text/plain": [
       "   release_year  show_id\n",
       "0          1925        1\n",
       "1          1942        2\n",
       "2          1943        3\n",
       "3          1944        3\n",
       "4          1945        4"
      ]
     },
     "execution_count": 85,
     "metadata": {},
     "output_type": "execute_result"
    }
   ],
   "source": [
    "new = df.groupby('release_year')['show_id'].count().reset_index()\n",
    "new.head()"
   ]
  },
  {
   "cell_type": "code",
   "execution_count": 86,
   "id": "modified-combine",
   "metadata": {
    "scrolled": true
   },
   "outputs": [
    {
     "data": {
      "text/plain": [
       "<AxesSubplot:xlabel='release_year', ylabel='show_id'>"
      ]
     },
     "execution_count": 86,
     "metadata": {},
     "output_type": "execute_result"
    },
    {
     "data": {
      "image/png": "[encoded data removed]",
      "text/plain": [
       "<Figure size 432x288 with 1 Axes>"
      ]
     },
     "metadata": {
      "needs_background": "light"
     },
     "output_type": "display_data"
    }
   ],
   "source": [
    "sns.lineplot(x=new['release_year'],y=new['show_id'])"
   ]
  },
  {
   "cell_type": "code",
   "execution_count": 87,
   "id": "communist-block",
   "metadata": {},
   "outputs": [],
   "source": [
    "# After 2000 the movies and Tv shows released more"
   ]
  },
  {
   "cell_type": "markdown",
   "id": "august-paste",
   "metadata": {},
   "source": [
    "# Conclusion\n",
    "\n",
    "- Out of 8791 there are 6127 Movies and TV shows are 2664\n",
    "- Nearly 70 percent are movies and 30 percent are TV Shows\n",
    "- There are 8791 movies and out of that Adult movies are maximum which 4091\n",
    "- 47% movies are adult movies\n",
    "- Maximum movies are released in 2018\n",
    "- Total movies released before 2017 are equal to total movies released between 2017 to 2021\n",
    "- There are two different type of time durations for Movies it's in miniutes and for TV Shows it's in season\n",
    "- The average movie time is 100 mins\n",
    "- Maximum movies are in the range of 87 to 114 minutes\n",
    "- We can see that there are sevral movies which are less than 50 mins so we need to think more on that\n",
    "- There are total 2664 TV Shows\n",
    "- Nearly 1800 TV Shows have only one season\n",
    "- There is one TV show who have maximun 17 seasons that's name is Grey's Anatomy\n",
    "- After 2017 Movies and Tv Shows added maximum\n",
    "- In single year 2019 nearly 2000 Movies and TV Shows are added which is maximun overall\n",
    "- The kid's movies are small relatively others nearly 60-70 minutes\n",
    "- The teen's movies are large in duration relatively other nearly 120 minutes\n",
    "- In Adult 72% are movies and 28% TV Show so we can conclude that adult prefer to watch movie rather than TV Shows\n",
    "- There are equal no of Movies and Tv Shows for them\n",
    "- There are 65% movies and 35% Tv shows for targetd older kids\n",
    "- In Teens 72% are movies and 28% TV Show so we can conclude that Tenns also prefer to watch movie rather than TV Shows\n",
    "- After 2016 maximum movies are added in Netflix\n",
    "- After 2000 the movies and Tv shows released more"
   ]
  }
 ],
 "metadata": {
  "kernelspec": {
   "display_name": "Python 3",
   "language": "python",
   "name": "python3"
  },
  "language_info": {
   "codemirror_mode": {
    "name": "ipython",
    "version": 3
   },
   "file_extension": ".py",
   "mimetype": "text/x-python",
   "name": "python",
   "nbconvert_exporter": "python",
   "pygments_lexer": "ipython3",
   "version": "3.8.5"
  }
 },
 "nbformat": 4,
 "nbformat_minor": 5
}
